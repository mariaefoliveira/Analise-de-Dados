{
  "nbformat": 4,
  "nbformat_minor": 0,
  "metadata": {
    "colab": {
      "provenance": []
    },
    "kernelspec": {
      "name": "python3",
      "display_name": "Python 3"
    }
  },
  "cells": [
    {
      "cell_type": "markdown",
      "metadata": {
        "id": "KJqp9AANOCtf"
      },
      "source": [
        "<img src=\"https://raw.githubusercontent.com/andre-marcos-perez/ebac-course-utils/main/media/logo/newebac_logo_black_half.png\" alt=\"ebac-logo\">\n",
        "\n",
        "---\n",
        "\n",
        "# **Módulo** | Análise de Dados: Coleta de Dados I\n",
        "Caderno de **Exercícios**<br>\n",
        "Professor [André Perez](https://www.linkedin.com/in/andremarcosperez/)\n",
        "\n",
        "---"
      ]
    },
    {
      "cell_type": "markdown",
      "metadata": {
        "id": "d9jDtUbDOE1-"
      },
      "source": [
        "# **Tópicos**\n",
        "\n",
        "<ol type=\"1\">\n",
        "  <li>Arquivos CSV;</li>\n",
        "  <li>Arquivos Texto;</li>\n",
        "  <li>Arquivos Excel.</li>\n",
        "</ol>"
      ]
    },
    {
      "cell_type": "markdown",
      "metadata": {
        "id": "SmoHgt-lwkpD"
      },
      "source": [
        "---"
      ]
    },
    {
      "cell_type": "markdown",
      "metadata": {
        "id": "GABI6OW8OfQ2"
      },
      "source": [
        "# **Exercícios**"
      ]
    },
    {
      "cell_type": "markdown",
      "metadata": {
        "id": "muD1vxozykSC"
      },
      "source": [
        "## 0\\. Preparando o ambiente"
      ]
    },
    {
      "cell_type": "markdown",
      "metadata": {
        "id": "ByX7SUjNKk2K"
      },
      "source": [
        "Vamos explorar dados de crédito presentes no arquivo `credito.xlsx` ([link](https://raw.githubusercontent.com/andre-marcos-perez/ebac-course-utils/develop/dataset/credito.xlsx)). Os dados estão no formato de **Excel** (XLSX) e contém informações sobre clientes de uma instituição financeira. Em especial, estamos interessados em explicar a segunda coluna, chamada de **default**, que indica se um cliente é adimplente (`default = 0`), ou inadimplente (`default = 1`), ou seja, queremos entender o porque um cliente deixa de honrar com suas dívidas baseado no comportamento de outros atributos, como salário, escolaridade e movimentação financeira. Uma descrição completa dos atributos está abaixo."
      ]
    },
    {
      "cell_type": "markdown",
      "metadata": {
        "id": "Z5Fd0NSVLnwE"
      },
      "source": [
        "\n",
        "\n",
        "| Coluna  | Descrição |\n",
        "| ------- | --------- |\n",
        "| id      | Número da conta |\n",
        "| default | Indica se o cliente é adimplente (0) ou inadimplente (1) |\n",
        "| idade   | --- |\n",
        "| sexo    | --- |\n",
        "| depedentes | --- |\n",
        "| escolaridade | --- |\n",
        "| estado_civil | --- |\n",
        "| salario_anual | Faixa do salario mensal multiplicado por 12 |\n",
        "| tipo_cartao | Categoria do cartao: blue, silver, gold e platinium |\n",
        "| meses_de_relacionamento | Quantidade de meses desde a abertura da conta |\n",
        "| qtd_produtos | Quantidade de produtos contratados |\n",
        "| iteracoes_12m | Quantidade de iteracoes com o cliente no último ano |\n",
        "| meses_inatico_12m | Quantidade de meses que o cliente ficou inativo no último ano |\n",
        "| limite_credito | Valor do limite do cartão de crédito |\n",
        "| valor_transacoes_12m | Soma total do valor das transações no cartão de crédito no último ano |\n",
        "| qtd_transacoes_12m | Quantidade total de transações no cartão de crédito no último ano |\n",
        "\n"
      ]
    },
    {
      "cell_type": "markdown",
      "metadata": {
        "id": "peEbZE2vcMaH"
      },
      "source": [
        "Faça o download do arquivo `credito.xlsx` com a célula de código abaixo."
      ]
    },
    {
      "cell_type": "code",
      "metadata": {
        "id": "hyG8xFuWc16L",
        "colab": {
          "base_uri": "https://localhost:8080/"
        },
        "outputId": "67a1d5c4-00f8-4d24-e5ad-138e40586c5b"
      },
      "source": [
        "!wget --show-progress --continue -O ./credito.xlsx https://raw.githubusercontent.com/andre-marcos-perez/ebac-course-utils/main/dataset/credito.xlsx"
      ],
      "execution_count": 1,
      "outputs": [
        {
          "output_type": "stream",
          "name": "stdout",
          "text": [
            "--2023-09-13 13:44:54--  https://raw.githubusercontent.com/andre-marcos-perez/ebac-course-utils/main/dataset/credito.xlsx\n",
            "Resolving raw.githubusercontent.com (raw.githubusercontent.com)... 185.199.110.133, 185.199.109.133, 185.199.108.133, ...\n",
            "Connecting to raw.githubusercontent.com (raw.githubusercontent.com)|185.199.110.133|:443... connected.\n",
            "HTTP request sent, awaiting response... 200 OK\n",
            "Length: 748185 (731K) [application/octet-stream]\n",
            "Saving to: ‘./credito.xlsx’\n",
            "\n",
            "./credito.xlsx      100%[===================>] 730.65K  --.-KB/s    in 0.05s   \n",
            "\n",
            "2023-09-13 13:44:54 (14.1 MB/s) - ‘./credito.xlsx’ saved [748185/748185]\n",
            "\n"
          ]
        }
      ]
    },
    {
      "cell_type": "markdown",
      "metadata": {
        "id": "zMN1Q3jdwoJm"
      },
      "source": [
        "---"
      ]
    },
    {
      "cell_type": "markdown",
      "metadata": {
        "id": "GWgNoJN8DHyY"
      },
      "source": [
        "## 1\\. Excel para CSV"
      ]
    },
    {
      "cell_type": "markdown",
      "metadata": {
        "id": "YynK1vf2DHyj"
      },
      "source": [
        "Utilizando o pacote Python `openpyxl` visto em aula, extraia os seguintes as colunas `id`, `sexo` e `idade` para dos clientes inadimplentes (`default = 1`) e solteiros (`estado_civil = 'solteiro'`). Salves os dados extraídos no arquivo csv `credito.csv` separado por `;`. Exemplo do cabeçalho e das três primeiras linhas:\n",
        "\n",
        "```\n",
        "id;sexo;idade\n",
        "767712558;59;M\n",
        "713741358;46;M\n",
        "772390908;59;M\n",
        "```\n",
        "\n",
        "**Dica:** O arquivo csv `credito.csv` deve ter 669 linhas, contando com o cabeçalho.\n",
        "\n",
        "**Nota:** Escreva o código da sua solução abaixo em uma ou mais células, você não precisa enviar o arquivo csv gerado."
      ]
    },
    {
      "cell_type": "code",
      "source": [
        "#importar o pacote openpyxl\n",
        "#pegar valores somente de pessoas com default=1 e estado_civil='solteiro'\n",
        "#extrair coluna id para lista id\n",
        "#extrair coluna sexo para lista sexo\n",
        "#extrair coluna idade para lista idade\n",
        "\n",
        "#salvar tudo num arquivo csv com separador = ';'\n",
        "\n",
        "from openpyxl import load_workbook\n",
        "import csv\n",
        "\n",
        "planilhas = load_workbook(filename='credito.xlsx')\n",
        "#Selecionar a planilha ativa\n",
        "planilha = planilhas.active\n",
        "\n",
        "#Cria um arquivo CSV para salvar o arquivo\n",
        "with open(file='credito.csv', mode='w',encoding='utf-8') as arquivo:\n",
        "  #Cria um objeto para escrever no arquivo CSV\n",
        "  arquivo_escrita = csv.writer(arquivo, delimiter=';')\n",
        "  #Escreve o cabeçalho\n",
        "  arquivo_escrita.writerow(['id','sexo','idade'])\n",
        "\n",
        "  #Itera pela linha\n",
        "  #min_row= 2 faz começar logo depois do cabeçalho\n",
        "  for linha in planilha.iter_rows(min_row=2, values_only=True):\n",
        "    #linha[col_excel]\n",
        "    if(linha[1]==1 and linha[6]=='solteiro'):\n",
        "      #pegar coluna da ordem do excel e salvar na ordem\n",
        "      #do cabeçalho usado\n",
        "      arquivo_escrita.writerow([linha[0],linha[3],linha[2]])\n",
        "\n",
        "print('Arquivo salvo em .csv')\n"
      ],
      "metadata": {
        "colab": {
          "base_uri": "https://localhost:8080/"
        },
        "id": "DjFPi4mjhh8u",
        "outputId": "dd669b31-0453-48d5-f905-365929e83faa"
      },
      "execution_count": 6,
      "outputs": [
        {
          "output_type": "stream",
          "name": "stdout",
          "text": [
            "Arquivo salvo em .csv\n"
          ]
        }
      ]
    },
    {
      "cell_type": "markdown",
      "metadata": {
        "id": "waxn4B2UDHyl"
      },
      "source": [
        "---"
      ]
    },
    {
      "cell_type": "markdown",
      "metadata": {
        "id": "finLQoyyGVmk"
      },
      "source": [
        "## 2\\. Excel para JSON"
      ]
    },
    {
      "cell_type": "markdown",
      "metadata": {
        "id": "99BrnqR4GVmy"
      },
      "source": [
        "Como preparação para o próximo módulo, vamos trabalhar com o JSON, um formato semi-estruturado, muito utilizado em transmissão de dados da web e equivalente a um **dicionário** Python."
      ]
    },
    {
      "cell_type": "markdown",
      "metadata": {
        "id": "AQqks_tohV8k"
      },
      "source": [
        "Utilizando o pacote Python `openpyxl` visto em aula, extraia os dados das colunas `escolaridade` e `tipo_cartao`, removendo duplicados. Com os dados, construa o dicionário Python `credito` com a seguinte estrutura:\n",
        "\n",
        "```python\n",
        "credito = {\n",
        "  'tipo_cartao': ['silver', 'blue', 'gold', 'platinum'],\n",
        "  'escolaridade': ['doutorado', 'mestrado', 'na', 'sem educacao formal', 'graduacao', 'ensino medio']\n",
        "}\n",
        "```\n",
        "\n",
        "Para finalizar, utilize o código abaixo para converter o dicionário `credito` no formato JSON:\n",
        "\n",
        "```python\n",
        "import json\n",
        "\n",
        "credito_json = json.dumps(credito, indent=4)\n",
        "print(credito_json)\n",
        "```\n",
        "\n",
        "**Dica:** Sua solução deve gerar o dicionário Python `credito` igual ao exemplo mas a ordem dos elementos pode variar tranquilamente.\n",
        "\n",
        "**Dica:** Uma excelente forma de remover elementos duplicados de uma lista é convertê-la para `set` e depois para `list` novamente.\n",
        "\n"
      ]
    },
    {
      "cell_type": "code",
      "metadata": {
        "id": "pCMQ5vBPjSXn",
        "colab": {
          "base_uri": "https://localhost:8080/"
        },
        "outputId": "126a917b-0f84-42d8-dce7-9b25fb190b90"
      },
      "source": [
        "#Com openpyxl pegar a coluna escolaridade e tipo_cartao\n",
        "#usar o set para tirar as duplicações\n",
        "#criar dicionário\n",
        "\n",
        "from openpyxl import workbook\n",
        "\n",
        "planilhas = load_workbook(filename='credito.xlsx')\n",
        "planilha = planilhas.active\n",
        "\n",
        "escolaridade = []\n",
        "tipo_cartao = []\n",
        "\n",
        "for linha in planilha.iter_rows(min_row=2, values_only=True):\n",
        "  escolaridade.append(linha[5])\n",
        "  tipo_cartao.append(linha[8])\n",
        "\n",
        "escolaridade = set(escolaridade)\n",
        "tipo_cartao = set(tipo_cartao)\n",
        "\n",
        "credito = {'tipo_cartao':tipo_cartao,'escolaridade':escolaridade}"
      ],
      "execution_count": 11,
      "outputs": [
        {
          "output_type": "stream",
          "name": "stdout",
          "text": [
            "{'tipo_cartao': {'platinum', 'silver', 'blue', 'gold'}, 'escolaridade': {'ensino medio', 'mestrado', 'doutorado', 'na', 'sem educacao formal', 'graduacao'}}\n"
          ]
        }
      ]
    },
    {
      "cell_type": "markdown",
      "metadata": {
        "id": "As3enQc2GVm1"
      },
      "source": [
        "---"
      ]
    },
    {
      "cell_type": "markdown",
      "metadata": {
        "id": "SS1PxxfHILHs"
      },
      "source": [
        "## 3\\. BÔNUS: Texto para CSV"
      ]
    },
    {
      "cell_type": "markdown",
      "metadata": {
        "id": "i3f-X7y23onm"
      },
      "source": [
        "No arquivo de texto `ebac.txt` você encontra o texto presente no rodapé da página de cursos da EBAC ([link](https://ebaconline.com.br/)).\n",
        "\n"
      ]
    },
    {
      "cell_type": "markdown",
      "metadata": {
        "id": "nKDF9EBH3onp"
      },
      "source": [
        "**Arquivo TXT:** ebac.txt"
      ]
    },
    {
      "cell_type": "code",
      "metadata": {
        "id": "Pyyj5VNnb16w",
        "colab": {
          "base_uri": "https://localhost:8080/"
        },
        "outputId": "41324e43-2cd4-4f5f-fb34-d046ff422157"
      },
      "source": [
        "%%writefile ebac.txt\n",
        "MÍDIAS SOCIAIS\n",
        "Instagram, Facebook, Youtube, LinkedIn\n",
        "\n",
        "CURSOS\n",
        "Software, Design, Marketing, Audiovisual, Programação & Data, Games\n",
        "\n",
        "WEBINARS\n",
        "Próximos, Anteriores\n",
        "\n",
        "SOBRE\n",
        "Sobre nós, Centro de carreiras, Vagas\n",
        "\n",
        "CONTATO\n",
        "WhatsApp +55 (11) 4200-2991\n",
        "Telefone +55 (11) 3030-3200\n",
        "\n",
        "BLOG\n",
        "Design, Audiovisual, Marketing"
      ],
      "execution_count": 13,
      "outputs": [
        {
          "output_type": "stream",
          "name": "stdout",
          "text": [
            "Overwriting ebac.txt\n"
          ]
        }
      ]
    },
    {
      "cell_type": "markdown",
      "metadata": {
        "id": "R4hMJ6D2ILH3"
      },
      "source": [
        "Extraia os números de contato do arquivo texto `ebac.txt` e salve-os no arquivo csv `contato_ebac.csv` com o separador `;` no seguinte formato:\n",
        "\n",
        "```\n",
        "tipo;numero\n",
        "whatsapp;+551142002991\n",
        "telefone;+551130303200\n",
        "```\n",
        "\n",
        "**Nota:** Escreva o código da sua solução abaixo em uma ou mais células, você não precisa enviar o arquivo csv gerado."
      ]
    },
    {
      "cell_type": "code",
      "metadata": {
        "id": "ogZClDvTILH3",
        "colab": {
          "base_uri": "https://localhost:8080/"
        },
        "outputId": "c4530d41-9314-4159-f690-6c7338337cff"
      },
      "source": [
        "# solução do exercício 3 (bônus)\n",
        "\n",
        "import csv\n",
        "\n",
        "#Limpando dados\n",
        "with open (file='./ebac.txt',mode='r',encoding='utf-8') as arquivo:\n",
        "  linhas = arquivo.readlines()\n",
        "\n",
        "  linhas = filter(lambda linha: linha !='\\n',linhas)\n",
        "  linhas = map(lambda linha: linha.strip(),linhas)\n",
        "  linhas = list(linhas)\n"
      ],
      "execution_count": 22,
      "outputs": [
        {
          "output_type": "stream",
          "name": "stdout",
          "text": [
            "['MÍDIAS SOCIAIS', 'Instagram, Facebook, Youtube, LinkedIn', 'CURSOS', 'Software, Design, Marketing, Audiovisual, Programação & Data, Games', 'WEBINARS', 'Próximos, Anteriores', 'SOBRE', 'Sobre nós, Centro de carreiras, Vagas', 'CONTATO', 'WhatsApp +55 (11) 4200-2991', 'Telefone +55 (11) 3030-3200', 'BLOG', 'Design, Audiovisual, Marketing']\n"
          ]
        }
      ]
    },
    {
      "cell_type": "code",
      "source": [
        "#Pega as informações do arquivo txt\n",
        "\n",
        "import re\n",
        "\n",
        "dados = []\n",
        "\n",
        "padrao_telefone = r'\\+\\d{2,}\\s\\(\\d{2,}\\)\\s\\d{4,}-\\d{4,}'\n",
        "\n",
        "for linha in linhas:\n",
        "  numero_telefone = re.findall(padrao_telefone, linha)\n",
        "\n",
        "  for numero in numero_telefone:\n",
        "\n",
        "    tipo = linha.split(numero)[0].strip()\n",
        "    dados.append((tipo,numero))"
      ],
      "metadata": {
        "id": "wKtsJrM8XGti"
      },
      "execution_count": 23,
      "outputs": []
    },
    {
      "cell_type": "code",
      "source": [
        "#Adiciona num arquivo .csv\n",
        "arquivo_csv = 'contato_ebac.csv'\n",
        "\n",
        "with open(arquivo_csv,mode='w',encoding='utf-8') as arquivo_csv:\n",
        "  arquivo_escrita = csv.writer(arquivo_csv,delimiter=';')\n",
        "\n",
        "  #Escreve cabeçalho\n",
        "  arquivo_escrita.writerow(['Tipo','Número'])\n",
        "  #Escreve os dados (tipo, num)\n",
        "  arquivo_escrita.writerows(dados)"
      ],
      "metadata": {
        "id": "OJEyafcybUFB"
      },
      "execution_count": 25,
      "outputs": []
    },
    {
      "cell_type": "markdown",
      "metadata": {
        "id": "Fx--J2bOILH4"
      },
      "source": [
        "---"
      ]
    }
  ]
}