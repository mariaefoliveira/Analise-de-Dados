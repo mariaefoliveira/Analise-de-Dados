{
  "nbformat": 4,
  "nbformat_minor": 0,
  "metadata": {
    "colab": {
      "provenance": []
    },
    "kernelspec": {
      "name": "python3",
      "display_name": "Python 3"
    }
  },
  "cells": [
    {
      "cell_type": "markdown",
      "metadata": {
        "id": "KJqp9AANOCtf"
      },
      "source": [
        "<img src=\"https://raw.githubusercontent.com/andre-marcos-perez/ebac-course-utils/main/media/logo/newebac_logo_black_half.png\" alt=\"ebac-logo\">\n",
        "\n",
        "---\n",
        "\n",
        "# **Módulo** | SQL: Filtrando & Seleção Condicional\n",
        "Caderno de **Exercícios**<br>\n",
        "Professor [Mariane Neiva](https://www.linkedin.com/in/mariane-neiva/)\n",
        "\n",
        "---"
      ]
    },
    {
      "cell_type": "markdown",
      "metadata": {
        "id": "d9jDtUbDOE1-"
      },
      "source": [
        "# **Tópicos**\n",
        "\n",
        "<ol type=\"1\">\n",
        "  <li>Filtros and, or, in e between;</li>\n",
        "  <li>Filtros like e wildcards;</li>\n",
        "  <li>Seleção condicional;</li>\n",
        "</ol>"
      ]
    },
    {
      "cell_type": "markdown",
      "metadata": {
        "id": "SmoHgt-lwkpD"
      },
      "source": [
        "---"
      ]
    },
    {
      "cell_type": "markdown",
      "metadata": {
        "id": "DIlQOznoTPQF"
      },
      "source": [
        "# **Instruções**\n",
        "\n",
        "Nessa **atividades**, você deve:\n",
        "\n",
        " 1. Executar a consulta SQL fornecida;\n",
        " 2. Exportar os resultados em um arquivo csv para sua máquina;\n",
        " 3. Renomear o arquivo como **query\\<numero-da-query\\>.csv**;\n",
        " 4. Enviar para a avaliação do tutor na plataforma da EBAC.\n",
        "\n",
        "> **Atenção**: Substitua o **\\<numero-da-query>** numero da consulta, exemplo: **query1.csv**.\n",
        "\n",
        "**Importante**: Para consultar mais detalhes da AWS Athena [clique aqui](https://docs.aws.amazon.com/athena/latest/ug/what-is.html)"
      ]
    },
    {
      "cell_type": "markdown",
      "metadata": {
        "id": "vvlBORqbTPQp"
      },
      "source": [
        "---"
      ]
    },
    {
      "cell_type": "markdown",
      "metadata": {
        "id": "k4HJwfbQcEQw"
      },
      "source": [
        "# Atividades"
      ]
    },
    {
      "cell_type": "markdown",
      "metadata": {
        "id": "ym_TsGX5_6Nd"
      },
      "source": [
        "#1. Prática 1\n",
        "\n",
        "> **Não há necessidade de entrega**.\n",
        "Para esses exercícios, utilizaremos os mesmo dados do módulo 3.\n",
        "\n",
        "Caso você não tenha as informações de **transacoes.csv**, elas estarão disponíveis no material de aula.\n",
        "\n",
        "Siga os seguintes passos para criação da tabela (desconsidere caso você já tenha os dados no seu S3):\n",
        "\n",
        "* Crie uma pasta bucket-transacoes no seu S3 e carregue o arquivo **transacoes.csv**\n",
        "* Volta para o AWS Athena e execute o seguinte comando:\n",
        "\n",
        "```sql\n",
        "CREATE EXTERNAL TABLE transacoes(\n",
        "id_cliente BIGINT,\n",
        "id_transacao BIGINT,\n",
        "valor FLOAT,\n",
        "id_loja STRING)\n",
        "ROW FORMAT SERDE 'org.apache.hadoop.hive.serde2.OpenCSVSerde'\n",
        "WITH SERDEPROPERTIES ('separatorChar' = ',', 'quoteChar' = '\"', 'escapeChar' = '\\\\')\n",
        "STORED AS TEXTFILE\n",
        "LOCATION 's3://bucket-transacoes/'\n",
        "```\n",
        "\n",
        "Utilizaremos a tabela para os exercícios seguintes."
      ]
    },
    {
      "cell_type": "markdown",
      "metadata": {
        "id": "qDxe2l4cMcVa"
      },
      "source": [
        "# **2. Selecionando dados**\n",
        "\n",
        "Vamos testar os comandos and, or, in e between?! Execute as queries e salve o resultado para enviar os exercícios.   \n",
        "\n",
        "##2.1 Query 1\n",
        "\n",
        "```sql\n",
        "SELECT *\n",
        "FROM transacoes\n",
        "WHERE valor > 30 AND id_loja = 'magalu';\n",
        "```\n",
        "\n",
        "> **Importante**: entregue os resultados da query com o nome *query1.csv*\n",
        "\n",
        "##2.2 Query 2\n",
        "\n",
        "```sql\n",
        "SELECT *\n",
        "FROM transacoes\n",
        "WHERE valor > 30 OR id_loja = 'magalu';\n",
        "```\n",
        "\n",
        "> **Importante**: entregue os resultados da query com o nome *query2.csv*\n",
        "\n",
        "##2.3 Query 3\n",
        "\n",
        "```sql\n",
        "SELECT *\n",
        "FROM transacoes\n",
        "WHERE id_loja IN ('magalu','subway') AND valor > 10;\n",
        "```\n",
        "\n",
        "> **Importante**: entregue os resultados da query com o nome *query3.csv*\n",
        "\n",
        "##2.4 Query 4\n",
        "\n",
        "```sql\n",
        "SELECT *\n",
        "FROM transacoes\n",
        "WHERE valor BETWEEN 60.0 AND 1000.0;\n",
        "```\n",
        "\n",
        "> **Importante**: entregue os resultados da query com o nome *query4.csv*"
      ]
    },
    {
      "cell_type": "code",
      "source": [
        "!wget \"https://raw.githubusercontent.com/mariaefoliveira/Analise-de-Dados/main/Atividades%20-%20Ebac/Atividade%2032%20-%20Ebac%20-%20AWS/Query/query_1.csv\"\n",
        "\n",
        "!wget \"https://raw.githubusercontent.com/mariaefoliveira/Analise-de-Dados/main/Atividades%20-%20Ebac/Atividade%2032%20-%20Ebac%20-%20AWS/Query/query_2.csv\"\n",
        "\n",
        "!wget \"https://raw.githubusercontent.com/mariaefoliveira/Analise-de-Dados/main/Atividades%20-%20Ebac/Atividade%2032%20-%20Ebac%20-%20AWS/Query/query_3.csv\"\n",
        "\n",
        "!wget \"https://raw.githubusercontent.com/mariaefoliveira/Analise-de-Dados/main/Atividades%20-%20Ebac/Atividade%2032%20-%20Ebac%20-%20AWS/Query/query_4.csv\"\n"
      ],
      "metadata": {
        "colab": {
          "base_uri": "https://localhost:8080/"
        },
        "id": "r4nRd9ZPS8iH",
        "outputId": "7534e0db-ca06-4bff-ffdc-56abb1cce18d"
      },
      "execution_count": 1,
      "outputs": [
        {
          "output_type": "stream",
          "name": "stdout",
          "text": [
            "--2024-06-26 16:11:19--  https://raw.githubusercontent.com/mariaefoliveira/Analise-de-Dados/main/Atividades%20-%20Ebac/Atividade%2032%20-%20Ebac%20-%20AWS/Query/query_1.csv\n",
            "Resolving raw.githubusercontent.com (raw.githubusercontent.com)... 185.199.109.133, 185.199.108.133, 185.199.111.133, ...\n",
            "Connecting to raw.githubusercontent.com (raw.githubusercontent.com)|185.199.109.133|:443... connected.\n",
            "HTTP request sent, awaiting response... 200 OK\n",
            "Length: 112 [text/plain]\n",
            "Saving to: ‘query_1.csv’\n",
            "\n",
            "\rquery_1.csv           0%[                    ]       0  --.-KB/s               \rquery_1.csv         100%[===================>]     112  --.-KB/s    in 0s      \n",
            "\n",
            "2024-06-26 16:11:20 (4.07 MB/s) - ‘query_1.csv’ saved [112/112]\n",
            "\n",
            "--2024-06-26 16:11:20--  https://raw.githubusercontent.com/mariaefoliveira/Analise-de-Dados/main/Atividades%20-%20Ebac/Atividade%2032%20-%20Ebac%20-%20AWS/Query/query_2.csv\n",
            "Resolving raw.githubusercontent.com (raw.githubusercontent.com)... 185.199.108.133, 185.199.109.133, 185.199.110.133, ...\n",
            "Connecting to raw.githubusercontent.com (raw.githubusercontent.com)|185.199.108.133|:443... connected.\n",
            "HTTP request sent, awaiting response... 200 OK\n",
            "Length: 250 [text/plain]\n",
            "Saving to: ‘query_2.csv’\n",
            "\n",
            "query_2.csv         100%[===================>]     250  --.-KB/s    in 0s      \n",
            "\n",
            "2024-06-26 16:11:20 (11.2 MB/s) - ‘query_2.csv’ saved [250/250]\n",
            "\n",
            "--2024-06-26 16:11:20--  https://raw.githubusercontent.com/mariaefoliveira/Analise-de-Dados/main/Atividades%20-%20Ebac/Atividade%2032%20-%20Ebac%20-%20AWS/Query/query_3.csv\n",
            "Resolving raw.githubusercontent.com (raw.githubusercontent.com)... 185.199.111.133, 185.199.110.133, 185.199.108.133, ...\n",
            "Connecting to raw.githubusercontent.com (raw.githubusercontent.com)|185.199.111.133|:443... connected.\n",
            "HTTP request sent, awaiting response... 200 OK\n",
            "Length: 144 [text/plain]\n",
            "Saving to: ‘query_3.csv’\n",
            "\n",
            "query_3.csv         100%[===================>]     144  --.-KB/s    in 0s      \n",
            "\n",
            "2024-06-26 16:11:20 (1.72 MB/s) - ‘query_3.csv’ saved [144/144]\n",
            "\n",
            "--2024-06-26 16:11:20--  https://raw.githubusercontent.com/mariaefoliveira/Analise-de-Dados/main/Atividades%20-%20Ebac/Atividade%2032%20-%20Ebac%20-%20AWS/Query/query_4.csv\n",
            "Resolving raw.githubusercontent.com (raw.githubusercontent.com)... 185.199.110.133, 185.199.108.133, 185.199.109.133, ...\n",
            "Connecting to raw.githubusercontent.com (raw.githubusercontent.com)|185.199.110.133|:443... connected.\n",
            "HTTP request sent, awaiting response... 200 OK\n",
            "Length: 83 [text/plain]\n",
            "Saving to: ‘query_4.csv’\n",
            "\n",
            "query_4.csv         100%[===================>]      83  --.-KB/s    in 0s      \n",
            "\n",
            "2024-06-26 16:11:20 (1.18 MB/s) - ‘query_4.csv’ saved [83/83]\n",
            "\n"
          ]
        }
      ]
    },
    {
      "cell_type": "markdown",
      "metadata": {
        "id": "QJJ92QL9C6fL"
      },
      "source": [
        "# **3. Filtro like e wildcards**\n",
        "\n",
        "Agora é hora de trabalhar com padrões! Execute as queries e salve o resultado para enviar os exercícios.   \n",
        "\n",
        "##3.1 Query 5\n",
        "\n",
        "```sql\n",
        "SELECT *\n",
        "FROM transacoes\n",
        "WHERE id_loja LIKE 'mag%'\n",
        "```\n",
        "\n",
        "> **Importante**: entregue os resultados da query com o nome *query5.csv*\n",
        "\n",
        "##3.2 Query 6\n",
        "\n",
        "```sql\n",
        "SELECT *\n",
        "FROM transacoes\n",
        "WHERE id_loja LIKE '%sh%'\n",
        "```\n",
        "\n",
        "> **Importante**: entregue os resultados da query com o nome *query6.csv*\n",
        "\n"
      ]
    },
    {
      "cell_type": "code",
      "source": [
        "!wget \"https://raw.githubusercontent.com/mariaefoliveira/Analise-de-Dados/main/Atividades%20-%20Ebac/Atividade%2032%20-%20Ebac%20-%20AWS/Query/query_5.csv\"\n",
        "\n",
        "!wget \"https://raw.githubusercontent.com/mariaefoliveira/Analise-de-Dados/main/Atividades%20-%20Ebac/Atividade%2032%20-%20Ebac%20-%20AWS/Query/query_6.csv\"\n"
      ],
      "metadata": {
        "colab": {
          "base_uri": "https://localhost:8080/"
        },
        "id": "kXbMmReJUEbB",
        "outputId": "6e9f5d69-3a54-4e6f-bf43-b8d3c9e229ab"
      },
      "execution_count": 2,
      "outputs": [
        {
          "output_type": "stream",
          "name": "stdout",
          "text": [
            "--2024-06-26 16:11:20--  https://raw.githubusercontent.com/mariaefoliveira/Analise-de-Dados/main/Atividades%20-%20Ebac/Atividade%2032%20-%20Ebac%20-%20AWS/Query/query_5.csv\n",
            "Resolving raw.githubusercontent.com (raw.githubusercontent.com)... 185.199.108.133, 185.199.109.133, 185.199.110.133, ...\n",
            "Connecting to raw.githubusercontent.com (raw.githubusercontent.com)|185.199.108.133|:443... connected.\n",
            "HTTP request sent, awaiting response... 200 OK\n",
            "Length: 112 [text/plain]\n",
            "Saving to: ‘query_5.csv’\n",
            "\n",
            "\rquery_5.csv           0%[                    ]       0  --.-KB/s               \rquery_5.csv         100%[===================>]     112  --.-KB/s    in 0s      \n",
            "\n",
            "2024-06-26 16:11:21 (1.92 MB/s) - ‘query_5.csv’ saved [112/112]\n",
            "\n",
            "--2024-06-26 16:11:21--  https://raw.githubusercontent.com/mariaefoliveira/Analise-de-Dados/main/Atividades%20-%20Ebac/Atividade%2032%20-%20Ebac%20-%20AWS/Query/query_6.csv\n",
            "Resolving raw.githubusercontent.com (raw.githubusercontent.com)... 185.199.108.133, 185.199.109.133, 185.199.110.133, ...\n",
            "Connecting to raw.githubusercontent.com (raw.githubusercontent.com)|185.199.108.133|:443... connected.\n",
            "HTTP request sent, awaiting response... 200 OK\n",
            "Length: 118 [text/plain]\n",
            "Saving to: ‘query_6.csv’\n",
            "\n",
            "query_6.csv         100%[===================>]     118  --.-KB/s    in 0s      \n",
            "\n",
            "2024-06-26 16:11:21 (1.96 MB/s) - ‘query_6.csv’ saved [118/118]\n",
            "\n"
          ]
        }
      ]
    },
    {
      "cell_type": "markdown",
      "metadata": {
        "id": "yprhfZqVDZXL"
      },
      "source": [
        "# **4. Seleção condicional**\n",
        "\n",
        "Chegou a hora de testar a combinação do CASE com o SELECT! Execute a  query e salve o resultado para enviar o  exercício.   \n",
        "\n",
        "##4.1 Query 7\n",
        "\n",
        "```sql\n",
        "SELECT id_cliente, id_loja, valor,\n",
        "CASE\n",
        "    WHEN valor > 1000 THEN 'Compra com alto valor'\n",
        "    WHEN valor < 1000 THEN 'Compra com baixo valor'\n",
        "END\n",
        "AS classeValor,\n",
        "CASE\n",
        "    WHEN id_loja IN ('giraffas','subway')  THEN 'alimentacao'\n",
        "    WHEN id_loja IN ('magalu','extra') THEN 'variedade'\n",
        "    WHEN id_loja IN ('postoshell','seveneleven') THEN '24horas'\n",
        "    ELSE 'outros'\n",
        "END\n",
        "AS tipo_compra\n",
        "FROM transacoes;\n",
        "```\n",
        "\n",
        "> **Importante**: entregue os resultados da query com o nome *query7.csv*\n",
        "\n"
      ]
    },
    {
      "cell_type": "code",
      "source": [
        "!wget \"https://raw.githubusercontent.com/mariaefoliveira/Analise-de-Dados/main/Atividades%20-%20Ebac/Atividade%2032%20-%20Ebac%20-%20AWS/Query/query_7.csv\"\n"
      ],
      "metadata": {
        "colab": {
          "base_uri": "https://localhost:8080/"
        },
        "id": "WFXpZZKbUIjA",
        "outputId": "e88f9881-6f0f-405f-c050-438813f03884"
      },
      "execution_count": 3,
      "outputs": [
        {
          "output_type": "stream",
          "name": "stdout",
          "text": [
            "--2024-06-26 16:11:21--  https://raw.githubusercontent.com/mariaefoliveira/Analise-de-Dados/main/Atividades%20-%20Ebac/Atividade%2032%20-%20Ebac%20-%20AWS/Query/query_7.csv\n",
            "Resolving raw.githubusercontent.com (raw.githubusercontent.com)... 185.199.111.133, 185.199.110.133, 185.199.108.133, ...\n",
            "Connecting to raw.githubusercontent.com (raw.githubusercontent.com)|185.199.111.133|:443... connected.\n",
            "HTTP request sent, awaiting response... 200 OK\n",
            "Length: 586 [text/plain]\n",
            "Saving to: ‘query_7.csv’\n",
            "\n",
            "query_7.csv         100%[===================>]     586  --.-KB/s    in 0s      \n",
            "\n",
            "2024-06-26 16:11:21 (22.1 MB/s) - ‘query_7.csv’ saved [586/586]\n",
            "\n"
          ]
        }
      ]
    }
  ]
}