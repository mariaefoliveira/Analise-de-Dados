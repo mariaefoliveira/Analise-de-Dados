{
  "nbformat": 4,
  "nbformat_minor": 0,
  "metadata": {
    "colab": {
      "provenance": [],
      "toc_visible": true
    },
    "kernelspec": {
      "name": "python3",
      "display_name": "Python 3"
    }
  },
  "cells": [
    {
      "cell_type": "markdown",
      "metadata": {
        "id": "KJqp9AANOCtf"
      },
      "source": [
        "<img src=\"https://raw.githubusercontent.com/andre-marcos-perez/ebac-course-utils/main/media/logo/newebac_logo_black_half.png\" alt=\"ebac-logo\">\n",
        "\n",
        "---\n",
        "\n",
        "# **Módulo** | Computação em Nuvem II\n",
        "Caderno de **Exercícios**<br>\n",
        "Professor [André Perez](https://www.linkedin.com/in/andremarcosperez/)\n",
        "\n",
        "---"
      ]
    },
    {
      "cell_type": "markdown",
      "metadata": {
        "id": "d9jDtUbDOE1-"
      },
      "source": [
        "# **Tópicos**\n",
        "\n",
        "<ol type=\"1\">\n",
        "  <li>AWS Lambda;</li>\n",
        "  <li>AWS Step Functions;</li>\n",
        "  <li>AWS EventBridge.</li>\n",
        "</ol>"
      ]
    },
    {
      "cell_type": "markdown",
      "metadata": {
        "id": "SmoHgt-lwkpD"
      },
      "source": [
        "---"
      ]
    },
    {
      "cell_type": "markdown",
      "metadata": {
        "id": "GABI6OW8OfQ2"
      },
      "source": [
        "# **Exercícios**"
      ]
    },
    {
      "cell_type": "markdown",
      "metadata": {
        "id": "ne7Ay0HKaGSv"
      },
      "source": [
        "## 1\\. AWS Lambda"
      ]
    },
    {
      "cell_type": "markdown",
      "source": [
        "### Código"
      ],
      "metadata": {
        "id": "BXBuMEMsxYMf"
      }
    },
    {
      "cell_type": "markdown",
      "source": [
        "\n",
        "```sql\n",
        "import json\n",
        "import logging\n",
        "from datetime import datetime\n",
        "\n",
        "import boto3\n",
        "import urllib3\n",
        "from botocore.exceptions import ClientError\n",
        "\n",
        "\n",
        "def lambda_handler(event, context) -> bool:\n",
        "\n",
        "  # -- setup\n",
        "\n",
        "  URL = 'https://api.bcb.gov.br/dados/serie/bcdata.sgs.4392/dados?formato=json'\n",
        "  BRONZE_BUCKET = 'modulo38-bronze'\n",
        "\n",
        "  client = boto3.client('s3')\n",
        "\n",
        "  date = datetime.now().strftime('%Y-%m-%d')\n",
        "  filename_json = f'stock-exchange-{date}.json'\n",
        "\n",
        "  # -- extract\n",
        "\n",
        "  try:\n",
        "    http = urllib3.PoolManager()\n",
        "    response = http.request(url=URL, method='get')\n",
        "  except Exception as exc:\n",
        "    raise exc\n",
        "  else:\n",
        "    data = json.loads(response.data.decode())\n",
        "    logging.info(msg=data)\n",
        "\n",
        "  # -- transform\n",
        "\n",
        "  ...\n",
        "\n",
        "  # -- load\n",
        "\n",
        "  try:\n",
        "      with open(f'/tmp/{filename_json}', mode='w', encoding='utf8') as fp:\n",
        "          json.dump(data, fp)\n",
        "      client.upload_file(Filename=f'/tmp/{filename_json}', Bucket=BRONZE_BUCKET, Key=filename_json)\n",
        "  except ClientError as exc:\n",
        "      raise exc\n",
        "\n",
        "  return json.dumps(dict(status=True))\n",
        "  ```"
      ],
      "metadata": {
        "id": "o1VJw50Yf1i2"
      }
    },
    {
      "cell_type": "markdown",
      "source": [
        "### Prints"
      ],
      "metadata": {
        "id": "WZFsBhkIxRSu"
      }
    },
    {
      "cell_type": "markdown",
      "source": [
        "Configuração realizada no IAM:\n",
        "\n",
        "![configuração-IAM-bronze](https://github.com/mariaefoliveira/Analise-de-Dados/blob/main/Atividades%20-%20Ebac/Atividade%2038%20-%20Ebac%20-%20Nuvem/Imagens/configuracao-lambda-silver-bronze.png?raw=true)"
      ],
      "metadata": {
        "id": "Gf1UkvEQdzZ3"
      }
    },
    {
      "cell_type": "markdown",
      "source": [
        "\n",
        "Arquivo criado no S3:\n",
        "\n",
        "![arquivo-S3-bronze](https://github.com/mariaefoliveira/Analise-de-Dados/blob/main/Atividades%20-%20Ebac/Atividade%2038%20-%20Ebac%20-%20Nuvem/Imagens/arquivo-lambda-bronze.png?raw=true)"
      ],
      "metadata": {
        "id": "fAyYb-q8eqUt"
      }
    },
    {
      "cell_type": "markdown",
      "source": [
        "### Código"
      ],
      "metadata": {
        "id": "swrSE997xfeb"
      }
    },
    {
      "cell_type": "markdown",
      "source": [
        "```sql\n",
        "import json\n",
        "from datetime import datetime\n",
        "\n",
        "import boto3\n",
        "from botocore.exceptions import ClientError\n",
        "\n",
        "\n",
        "def lambda_handler(event, context) -> bool:\n",
        "    # -- setup\n",
        "    BRONZE_BUCKET = 'modulo38-bronze'\n",
        "    SILVER_BUCKET = 'modulo38-silver'\n",
        "    \n",
        "    client = boto3.client('s3')\n",
        "    \n",
        "    date = datetime.now().strftime('%Y-%m-%d')\n",
        "    filename_csv = f'stock-exchange-{date}.csv'\n",
        "    filename_json = f'stock-exchange-{date}.json'\n",
        "    \n",
        "    # -- extract\n",
        "    client.download_file(BRONZE_BUCKET, filename_json, f'/tmp/{filename_json}')\n",
        "    \n",
        "    with open(f\"/tmp/{filename_json}\", mode='r', encoding='utf8') as fp:\n",
        "        data = json.load(fp)\n",
        "    \n",
        "    # -- transform\n",
        "    transformed_data = []\n",
        "    \n",
        "    for record in data:\n",
        "        transformed_record = {\n",
        "            'taxa': record['valor'].replace(',', '.'),\n",
        "            'dataTaxa': datetime.strptime(record['data'], '%d/%m/%Y').strftime('%Y-%m-%d'),\n",
        "        }\n",
        "        transformed_data.append(transformed_record)\n",
        "    \n",
        "    # -- load\n",
        "    try:\n",
        "        with open(f'/tmp/{filename_csv}', mode='w', encoding='utf8') as fp:\n",
        "            fp.write('taxa,dataTaxa\\n')\n",
        "            for record in transformed_data:\n",
        "                fp.write(f\"{record['taxa']},{record['dataTaxa']}\\n\")\n",
        "        client.upload_file(Filename=f'/tmp/{filename_csv}', Bucket=SILVER_BUCKET, Key=f'data_referencia={date}/{filename_csv}')\n",
        "    except ClientError as exc:\n",
        "        raise exc\n",
        "    \n",
        "    return json.dumps(dict(status=True))\n",
        "```"
      ],
      "metadata": {
        "id": "8s0eK2mifWHH"
      }
    },
    {
      "cell_type": "markdown",
      "source": [
        "### Prints"
      ],
      "metadata": {
        "id": "BhAn_8YNxhti"
      }
    },
    {
      "cell_type": "markdown",
      "source": [
        "Configuração realizada no IAM:\n",
        "\n",
        "![configuração-IAM-silver](https://github.com/mariaefoliveira/Analise-de-Dados/blob/main/Atividades%20-%20Ebac/Atividade%2038%20-%20Ebac%20-%20Nuvem/Imagens/configuracao-lambda-silver-bronze.png?raw=true)"
      ],
      "metadata": {
        "id": "HXniBUhUe1Hm"
      }
    },
    {
      "cell_type": "markdown",
      "source": [
        "\n",
        "Arquivo criado no S3:\n",
        "\n",
        "![arquivo-S3-silver](https://github.com/mariaefoliveira/Analise-de-Dados/blob/main/Atividades%20-%20Ebac/Atividade%2038%20-%20Ebac%20-%20Nuvem/Imagens/arquivo-lambda-silver.png?raw=true)"
      ],
      "metadata": {
        "id": "qK-q3OsLe1Xd"
      }
    },
    {
      "cell_type": "markdown",
      "source": [
        "```sql\n",
        "\n",
        "import json\n",
        "from datetime import datetime\n",
        "\n",
        "import boto3\n",
        "from botocore.exceptions import ClientError\n",
        "\n",
        "\n",
        "def lambda_handler(event, context) -> bool:\n",
        "\n",
        "  # -- setup\n",
        "\n",
        "  SILVER_BUCKET = 'modulo38-silver'\n",
        "\n",
        "  query = f\"\"\"\n",
        "  CREATE EXTERNAL TABLE IF NOT EXISTS cdi (\n",
        "    taxa double,\n",
        "    dataTaxa string\n",
        "  )\n",
        "  PARTITIONED BY (\n",
        "    data_referencia string\n",
        "  )\n",
        "  ROW FORMAT SERDE 'org.apache.hadoop.hive.serde2.OpenCSVSerde'\n",
        "  WITH SERDEPROPERTIES ('separatorChar'=',')\n",
        "  LOCATION 's3://{SILVER_BUCKET}/'\n",
        "  \"\"\"\n",
        "\n",
        "  client = boto3.client('athena')\n",
        "\n",
        "  # -- create\n",
        "\n",
        "  try:\n",
        "    client.start_query_execution(\n",
        "      QueryString=query,\n",
        "      ResultConfiguration={'OutputLocation': 's3://modulo-37-resultados-query/'}\n",
        "    )\n",
        "  except ClientError as exc:\n",
        "    raise exc\n",
        "\n",
        "  # -- update\n",
        "\n",
        "  try:\n",
        "    client.start_query_execution(\n",
        "      QueryString='MSCK REPAIR TABLE cdi',\n",
        "      ResultConfiguration={'OutputLocation': 's3://modulo-37-resultados-query/'}\n",
        "    )\n",
        "  except ClientError as exc:\n",
        "    raise exc\n",
        "\n",
        "  return json.dumps(dict(status=True))\n",
        "```\n",
        "\n"
      ],
      "metadata": {
        "id": "sYqyc9u6fEq4"
      }
    },
    {
      "cell_type": "markdown",
      "source": [
        "Configuração realizada no IAM:\n",
        "\n",
        "![configuração-IAM-tabela](https://github.com/mariaefoliveira/Analise-de-Dados/blob/main/Atividades%20-%20Ebac/Atividade%2038%20-%20Ebac%20-%20Nuvem/Imagens/configuracao-lambda-tabela.png?raw=true)"
      ],
      "metadata": {
        "id": "c7485-TWfArn"
      }
    },
    {
      "cell_type": "markdown",
      "source": [
        "Athena-cdi:\n",
        "\n",
        "![tabela-athena-cdi](https://github.com/mariaefoliveira/Analise-de-Dados/blob/main/Atividades%20-%20Ebac/Atividade%2038%20-%20Ebac%20-%20Nuvem/Imagens/tabela-cdi.png?raw=true)\n",
        "\n",
        "![sql](https://github.com/mariaefoliveira/Analise-de-Dados/blob/main/Atividades%20-%20Ebac/Atividade%2038%20-%20Ebac%20-%20Nuvem/Imagens/sql-tabela.png?raw=true)"
      ],
      "metadata": {
        "id": "mm3d0sbhfAYC"
      }
    },
    {
      "cell_type": "markdown",
      "metadata": {
        "id": "EvJTE2FpaGeU"
      },
      "source": [
        "## 2\\. AWS Step Functions"
      ]
    },
    {
      "cell_type": "markdown",
      "metadata": {
        "id": "ISYXZbomlb1x"
      },
      "source": [
        "![step-function-configurado](https://github.com/mariaefoliveira/Analise-de-Dados/blob/main/Atividades%20-%20Ebac/Atividade%2038%20-%20Ebac%20-%20Nuvem/Imagens/grafico-step-functions.png?raw=true)\n",
        "\n",
        "![step-function-ok](https://github.com/mariaefoliveira/Analise-de-Dados/blob/main/Atividades%20-%20Ebac/Atividade%2038%20-%20Ebac%20-%20Nuvem/Imagens/grafico-step-functions-ok.png?raw=true)"
      ]
    },
    {
      "cell_type": "markdown",
      "metadata": {
        "id": "oVejInuPakz5"
      },
      "source": [
        "## 3\\. AWS EventBridge"
      ]
    },
    {
      "cell_type": "markdown",
      "metadata": {
        "id": "CZbuPphXakz7"
      },
      "source": [
        "![Cronograma](https://github.com/mariaefoliveira/Analise-de-Dados/blob/main/Atividades%20-%20Ebac/Atividade%2038%20-%20Ebac%20-%20Nuvem/Imagens/cronograma-criado.png?raw=true)"
      ]
    }
  ]
}