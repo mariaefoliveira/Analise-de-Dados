{
  "nbformat": 4,
  "nbformat_minor": 0,
  "metadata": {
    "colab": {
      "provenance": [],
      "collapsed_sections": [
        "JG1HL69-j0lH",
        "s_Dj-BgThLg5",
        "jeEzLmuRhDQy",
        "PoTeRwlihDQ0",
        "QpMlxqRyhDQ1",
        "ov7Fg-mWhDQ1",
        "DvHPNAoPgdiG",
        "3SMp5GwjglJm",
        "e3ieQfXTgqd3",
        "L0pKWNr5fm9z",
        "DMhCpOU_gupo",
        "l3h0WP2Eg2ht",
        "rWG4Vk6XaWtf",
        "wkibgd8rB8y3",
        "IjPaJtnYE0MI",
        "2lpj1rszc--m",
        "HnWg_mhLd5gC",
        "RhqmXiHQo-is",
        "SvT9xrajLL7J",
        "91eSyA2cLLqv"
      ]
    },
    "kernelspec": {
      "name": "python3",
      "display_name": "Python 3"
    }
  },
  "cells": [
    {
      "cell_type": "markdown",
      "metadata": {
        "id": "KJqp9AANOCtf"
      },
      "source": [
        "<img src=\"https://raw.githubusercontent.com/andre-marcos-perez/ebac-course-utils/main/media/logo/newebac_logo_black_half.png\" alt=\"ebac-logo\">\n",
        "\n",
        "---\n",
        "\n",
        "# **Módulo** | Big Data II - Armazenamento\n",
        "Caderno de **Exercícios**<br>\n",
        "Professor [André Perez](https://www.linkedin.com/in/andremarcosperez/)\n",
        "\n",
        "---"
      ]
    },
    {
      "cell_type": "markdown",
      "metadata": {
        "id": "d9jDtUbDOE1-"
      },
      "source": [
        "# **Tópicos**\n",
        "\n",
        "<ol type=\"1\">\n",
        "  <li>Introdução;</li>\n",
        "  <li>Orientação a coluna;</li>\n",
        "  <li>Particionamento.</li>\n",
        "</ol>"
      ]
    },
    {
      "cell_type": "markdown",
      "metadata": {
        "id": "SmoHgt-lwkpD"
      },
      "source": [
        "---"
      ]
    },
    {
      "cell_type": "markdown",
      "metadata": {
        "id": "GABI6OW8OfQ2"
      },
      "source": [
        "# **Exercícios**"
      ]
    },
    {
      "cell_type": "markdown",
      "metadata": {
        "id": "ne7Ay0HKaGSv"
      },
      "source": [
        "## 1\\. Particionamento e orientação a coluna."
      ]
    },
    {
      "cell_type": "markdown",
      "metadata": {
        "id": "OQxOVktrzG9I"
      },
      "source": [
        "Replique as atividades da aula 3 em sua conta da AWS."
      ]
    },
    {
      "cell_type": "markdown",
      "source": [
        "1.1. Faça o download do arquivo `crime.csv` (fonte [Kaggle](https://www.kaggle.com/yamqwe/chicago-crimee?select=chicago_crime_2014.csv))."
      ],
      "metadata": {
        "id": "E69nBHvAa_O5"
      }
    },
    {
      "cell_type": "code",
      "source": [
        "!wget https://raw.githubusercontent.com/andre-marcos-perez/ebac-course-utils/main/dataset/crime.csv -q -O crime.csv"
      ],
      "metadata": {
        "id": "qylvNY1EcHDr"
      },
      "execution_count": null,
      "outputs": []
    },
    {
      "cell_type": "markdown",
      "source": [
        "1.2. Leia os dados em um DataFrame Pandas e crie a coluna `reference_date`."
      ],
      "metadata": {
        "id": "R9Ils6eccOLS"
      }
    },
    {
      "cell_type": "code",
      "source": [
        "import pandas as pd\n",
        "\n",
        "filename = './crime'\n",
        "\n",
        "df = pd.read_csv(f'./{filename}.csv')\n",
        "df['reference_date'] = pd.to_datetime(df['Date'], format='%m/%d/%Y %I:%M:%S %p')\n",
        "#Pega a primeira parte do datetime\n",
        "df['reference_date'] = df['Date'].str.split(' ').str[0]\n",
        "df.head()"
      ],
      "metadata": {
        "id": "_13A2y77ccU6",
        "colab": {
          "base_uri": "https://localhost:8080/",
          "height": 417
        },
        "outputId": "8da64f08-0643-46c8-b9bc-1d4f2224067b"
      },
      "execution_count": null,
      "outputs": [
        {
          "output_type": "execute_result",
          "data": {
            "text/plain": [
              "   index       ID Case Number                    Date                   Block  \\\n",
              "0      0  9446824    HX100141  01/01/2014 02:00:00 AM     0000X W ILLINOIS ST   \n",
              "1      1  9446748    HX100020  01/01/2014 12:00:00 AM     006XX N DEARBORN ST   \n",
              "2      2  9446758    HX100030  01/01/2014 12:30:00 AM        052XX W RACE AVE   \n",
              "3      3  9446760    HX100027  01/01/2014 12:30:00 AM  053XX W WELLINGTON AVE   \n",
              "4      4  9446764    HX100054  01/01/2014 12:10:00 AM    014XX W LEXINGTON ST   \n",
              "\n",
              "   IUCR     Primary Type    Description Location Description  Arrest  \\\n",
              "0  0460          BATTERY         SIMPLE               STREET   False   \n",
              "1  0890            THEFT  FROM BUILDING        BAR OR TAVERN   False   \n",
              "2  1310  CRIMINAL DAMAGE    TO PROPERTY            APARTMENT   False   \n",
              "3  0460          BATTERY         SIMPLE            APARTMENT    True   \n",
              "4  0460          BATTERY         SIMPLE               STREET   False   \n",
              "\n",
              "   Domestic  Beat  District  Ward  Community Area FBI Code   Latitude  \\\n",
              "0     False  1831        18  42.0             8.0      08B  41.890828   \n",
              "1     False  1832        18  42.0             8.0       06  41.893542   \n",
              "2     False  1523        15  28.0            25.0       14  41.890046   \n",
              "3     False  2514        25  31.0            19.0      08B  41.935011   \n",
              "4     False  1231        12  25.0            28.0      08B  41.872509   \n",
              "\n",
              "   Longitude reference_date  \n",
              "0 -87.630235     01/01/2014  \n",
              "1 -87.629702     01/01/2014  \n",
              "2 -87.756333     01/01/2014  \n",
              "3 -87.759739     01/01/2014  \n",
              "4 -87.663069     01/01/2014  "
            ],
            "text/html": [
              "\n",
              "  <div id=\"df-6efcfb2c-6460-4661-8c7a-730ced6cf2ee\" class=\"colab-df-container\">\n",
              "    <div>\n",
              "<style scoped>\n",
              "    .dataframe tbody tr th:only-of-type {\n",
              "        vertical-align: middle;\n",
              "    }\n",
              "\n",
              "    .dataframe tbody tr th {\n",
              "        vertical-align: top;\n",
              "    }\n",
              "\n",
              "    .dataframe thead th {\n",
              "        text-align: right;\n",
              "    }\n",
              "</style>\n",
              "<table border=\"1\" class=\"dataframe\">\n",
              "  <thead>\n",
              "    <tr style=\"text-align: right;\">\n",
              "      <th></th>\n",
              "      <th>index</th>\n",
              "      <th>ID</th>\n",
              "      <th>Case Number</th>\n",
              "      <th>Date</th>\n",
              "      <th>Block</th>\n",
              "      <th>IUCR</th>\n",
              "      <th>Primary Type</th>\n",
              "      <th>Description</th>\n",
              "      <th>Location Description</th>\n",
              "      <th>Arrest</th>\n",
              "      <th>Domestic</th>\n",
              "      <th>Beat</th>\n",
              "      <th>District</th>\n",
              "      <th>Ward</th>\n",
              "      <th>Community Area</th>\n",
              "      <th>FBI Code</th>\n",
              "      <th>Latitude</th>\n",
              "      <th>Longitude</th>\n",
              "      <th>reference_date</th>\n",
              "    </tr>\n",
              "  </thead>\n",
              "  <tbody>\n",
              "    <tr>\n",
              "      <th>0</th>\n",
              "      <td>0</td>\n",
              "      <td>9446824</td>\n",
              "      <td>HX100141</td>\n",
              "      <td>01/01/2014 02:00:00 AM</td>\n",
              "      <td>0000X W ILLINOIS ST</td>\n",
              "      <td>0460</td>\n",
              "      <td>BATTERY</td>\n",
              "      <td>SIMPLE</td>\n",
              "      <td>STREET</td>\n",
              "      <td>False</td>\n",
              "      <td>False</td>\n",
              "      <td>1831</td>\n",
              "      <td>18</td>\n",
              "      <td>42.0</td>\n",
              "      <td>8.0</td>\n",
              "      <td>08B</td>\n",
              "      <td>41.890828</td>\n",
              "      <td>-87.630235</td>\n",
              "      <td>01/01/2014</td>\n",
              "    </tr>\n",
              "    <tr>\n",
              "      <th>1</th>\n",
              "      <td>1</td>\n",
              "      <td>9446748</td>\n",
              "      <td>HX100020</td>\n",
              "      <td>01/01/2014 12:00:00 AM</td>\n",
              "      <td>006XX N DEARBORN ST</td>\n",
              "      <td>0890</td>\n",
              "      <td>THEFT</td>\n",
              "      <td>FROM BUILDING</td>\n",
              "      <td>BAR OR TAVERN</td>\n",
              "      <td>False</td>\n",
              "      <td>False</td>\n",
              "      <td>1832</td>\n",
              "      <td>18</td>\n",
              "      <td>42.0</td>\n",
              "      <td>8.0</td>\n",
              "      <td>06</td>\n",
              "      <td>41.893542</td>\n",
              "      <td>-87.629702</td>\n",
              "      <td>01/01/2014</td>\n",
              "    </tr>\n",
              "    <tr>\n",
              "      <th>2</th>\n",
              "      <td>2</td>\n",
              "      <td>9446758</td>\n",
              "      <td>HX100030</td>\n",
              "      <td>01/01/2014 12:30:00 AM</td>\n",
              "      <td>052XX W RACE AVE</td>\n",
              "      <td>1310</td>\n",
              "      <td>CRIMINAL DAMAGE</td>\n",
              "      <td>TO PROPERTY</td>\n",
              "      <td>APARTMENT</td>\n",
              "      <td>False</td>\n",
              "      <td>False</td>\n",
              "      <td>1523</td>\n",
              "      <td>15</td>\n",
              "      <td>28.0</td>\n",
              "      <td>25.0</td>\n",
              "      <td>14</td>\n",
              "      <td>41.890046</td>\n",
              "      <td>-87.756333</td>\n",
              "      <td>01/01/2014</td>\n",
              "    </tr>\n",
              "    <tr>\n",
              "      <th>3</th>\n",
              "      <td>3</td>\n",
              "      <td>9446760</td>\n",
              "      <td>HX100027</td>\n",
              "      <td>01/01/2014 12:30:00 AM</td>\n",
              "      <td>053XX W WELLINGTON AVE</td>\n",
              "      <td>0460</td>\n",
              "      <td>BATTERY</td>\n",
              "      <td>SIMPLE</td>\n",
              "      <td>APARTMENT</td>\n",
              "      <td>True</td>\n",
              "      <td>False</td>\n",
              "      <td>2514</td>\n",
              "      <td>25</td>\n",
              "      <td>31.0</td>\n",
              "      <td>19.0</td>\n",
              "      <td>08B</td>\n",
              "      <td>41.935011</td>\n",
              "      <td>-87.759739</td>\n",
              "      <td>01/01/2014</td>\n",
              "    </tr>\n",
              "    <tr>\n",
              "      <th>4</th>\n",
              "      <td>4</td>\n",
              "      <td>9446764</td>\n",
              "      <td>HX100054</td>\n",
              "      <td>01/01/2014 12:10:00 AM</td>\n",
              "      <td>014XX W LEXINGTON ST</td>\n",
              "      <td>0460</td>\n",
              "      <td>BATTERY</td>\n",
              "      <td>SIMPLE</td>\n",
              "      <td>STREET</td>\n",
              "      <td>False</td>\n",
              "      <td>False</td>\n",
              "      <td>1231</td>\n",
              "      <td>12</td>\n",
              "      <td>25.0</td>\n",
              "      <td>28.0</td>\n",
              "      <td>08B</td>\n",
              "      <td>41.872509</td>\n",
              "      <td>-87.663069</td>\n",
              "      <td>01/01/2014</td>\n",
              "    </tr>\n",
              "  </tbody>\n",
              "</table>\n",
              "</div>\n",
              "    <div class=\"colab-df-buttons\">\n",
              "\n",
              "  <div class=\"colab-df-container\">\n",
              "    <button class=\"colab-df-convert\" onclick=\"convertToInteractive('df-6efcfb2c-6460-4661-8c7a-730ced6cf2ee')\"\n",
              "            title=\"Convert this dataframe to an interactive table.\"\n",
              "            style=\"display:none;\">\n",
              "\n",
              "  <svg xmlns=\"http://www.w3.org/2000/svg\" height=\"24px\" viewBox=\"0 -960 960 960\">\n",
              "    <path d=\"M120-120v-720h720v720H120Zm60-500h600v-160H180v160Zm220 220h160v-160H400v160Zm0 220h160v-160H400v160ZM180-400h160v-160H180v160Zm440 0h160v-160H620v160ZM180-180h160v-160H180v160Zm440 0h160v-160H620v160Z\"/>\n",
              "  </svg>\n",
              "    </button>\n",
              "\n",
              "  <style>\n",
              "    .colab-df-container {\n",
              "      display:flex;\n",
              "      gap: 12px;\n",
              "    }\n",
              "\n",
              "    .colab-df-convert {\n",
              "      background-color: #E8F0FE;\n",
              "      border: none;\n",
              "      border-radius: 50%;\n",
              "      cursor: pointer;\n",
              "      display: none;\n",
              "      fill: #1967D2;\n",
              "      height: 32px;\n",
              "      padding: 0 0 0 0;\n",
              "      width: 32px;\n",
              "    }\n",
              "\n",
              "    .colab-df-convert:hover {\n",
              "      background-color: #E2EBFA;\n",
              "      box-shadow: 0px 1px 2px rgba(60, 64, 67, 0.3), 0px 1px 3px 1px rgba(60, 64, 67, 0.15);\n",
              "      fill: #174EA6;\n",
              "    }\n",
              "\n",
              "    .colab-df-buttons div {\n",
              "      margin-bottom: 4px;\n",
              "    }\n",
              "\n",
              "    [theme=dark] .colab-df-convert {\n",
              "      background-color: #3B4455;\n",
              "      fill: #D2E3FC;\n",
              "    }\n",
              "\n",
              "    [theme=dark] .colab-df-convert:hover {\n",
              "      background-color: #434B5C;\n",
              "      box-shadow: 0px 1px 3px 1px rgba(0, 0, 0, 0.15);\n",
              "      filter: drop-shadow(0px 1px 2px rgba(0, 0, 0, 0.3));\n",
              "      fill: #FFFFFF;\n",
              "    }\n",
              "  </style>\n",
              "\n",
              "    <script>\n",
              "      const buttonEl =\n",
              "        document.querySelector('#df-6efcfb2c-6460-4661-8c7a-730ced6cf2ee button.colab-df-convert');\n",
              "      buttonEl.style.display =\n",
              "        google.colab.kernel.accessAllowed ? 'block' : 'none';\n",
              "\n",
              "      async function convertToInteractive(key) {\n",
              "        const element = document.querySelector('#df-6efcfb2c-6460-4661-8c7a-730ced6cf2ee');\n",
              "        const dataTable =\n",
              "          await google.colab.kernel.invokeFunction('convertToInteractive',\n",
              "                                                    [key], {});\n",
              "        if (!dataTable) return;\n",
              "\n",
              "        const docLinkHtml = 'Like what you see? Visit the ' +\n",
              "          '<a target=\"_blank\" href=https://colab.research.google.com/notebooks/data_table.ipynb>data table notebook</a>'\n",
              "          + ' to learn more about interactive tables.';\n",
              "        element.innerHTML = '';\n",
              "        dataTable['output_type'] = 'display_data';\n",
              "        await google.colab.output.renderOutput(dataTable, element);\n",
              "        const docLink = document.createElement('div');\n",
              "        docLink.innerHTML = docLinkHtml;\n",
              "        element.appendChild(docLink);\n",
              "      }\n",
              "    </script>\n",
              "  </div>\n",
              "\n",
              "\n",
              "<div id=\"df-69796a9a-e700-4c45-a499-7385d424b19f\">\n",
              "  <button class=\"colab-df-quickchart\" onclick=\"quickchart('df-69796a9a-e700-4c45-a499-7385d424b19f')\"\n",
              "            title=\"Suggest charts\"\n",
              "            style=\"display:none;\">\n",
              "\n",
              "<svg xmlns=\"http://www.w3.org/2000/svg\" height=\"24px\"viewBox=\"0 0 24 24\"\n",
              "     width=\"24px\">\n",
              "    <g>\n",
              "        <path d=\"M19 3H5c-1.1 0-2 .9-2 2v14c0 1.1.9 2 2 2h14c1.1 0 2-.9 2-2V5c0-1.1-.9-2-2-2zM9 17H7v-7h2v7zm4 0h-2V7h2v10zm4 0h-2v-4h2v4z\"/>\n",
              "    </g>\n",
              "</svg>\n",
              "  </button>\n",
              "\n",
              "<style>\n",
              "  .colab-df-quickchart {\n",
              "      --bg-color: #E8F0FE;\n",
              "      --fill-color: #1967D2;\n",
              "      --hover-bg-color: #E2EBFA;\n",
              "      --hover-fill-color: #174EA6;\n",
              "      --disabled-fill-color: #AAA;\n",
              "      --disabled-bg-color: #DDD;\n",
              "  }\n",
              "\n",
              "  [theme=dark] .colab-df-quickchart {\n",
              "      --bg-color: #3B4455;\n",
              "      --fill-color: #D2E3FC;\n",
              "      --hover-bg-color: #434B5C;\n",
              "      --hover-fill-color: #FFFFFF;\n",
              "      --disabled-bg-color: #3B4455;\n",
              "      --disabled-fill-color: #666;\n",
              "  }\n",
              "\n",
              "  .colab-df-quickchart {\n",
              "    background-color: var(--bg-color);\n",
              "    border: none;\n",
              "    border-radius: 50%;\n",
              "    cursor: pointer;\n",
              "    display: none;\n",
              "    fill: var(--fill-color);\n",
              "    height: 32px;\n",
              "    padding: 0;\n",
              "    width: 32px;\n",
              "  }\n",
              "\n",
              "  .colab-df-quickchart:hover {\n",
              "    background-color: var(--hover-bg-color);\n",
              "    box-shadow: 0 1px 2px rgba(60, 64, 67, 0.3), 0 1px 3px 1px rgba(60, 64, 67, 0.15);\n",
              "    fill: var(--button-hover-fill-color);\n",
              "  }\n",
              "\n",
              "  .colab-df-quickchart-complete:disabled,\n",
              "  .colab-df-quickchart-complete:disabled:hover {\n",
              "    background-color: var(--disabled-bg-color);\n",
              "    fill: var(--disabled-fill-color);\n",
              "    box-shadow: none;\n",
              "  }\n",
              "\n",
              "  .colab-df-spinner {\n",
              "    border: 2px solid var(--fill-color);\n",
              "    border-color: transparent;\n",
              "    border-bottom-color: var(--fill-color);\n",
              "    animation:\n",
              "      spin 1s steps(1) infinite;\n",
              "  }\n",
              "\n",
              "  @keyframes spin {\n",
              "    0% {\n",
              "      border-color: transparent;\n",
              "      border-bottom-color: var(--fill-color);\n",
              "      border-left-color: var(--fill-color);\n",
              "    }\n",
              "    20% {\n",
              "      border-color: transparent;\n",
              "      border-left-color: var(--fill-color);\n",
              "      border-top-color: var(--fill-color);\n",
              "    }\n",
              "    30% {\n",
              "      border-color: transparent;\n",
              "      border-left-color: var(--fill-color);\n",
              "      border-top-color: var(--fill-color);\n",
              "      border-right-color: var(--fill-color);\n",
              "    }\n",
              "    40% {\n",
              "      border-color: transparent;\n",
              "      border-right-color: var(--fill-color);\n",
              "      border-top-color: var(--fill-color);\n",
              "    }\n",
              "    60% {\n",
              "      border-color: transparent;\n",
              "      border-right-color: var(--fill-color);\n",
              "    }\n",
              "    80% {\n",
              "      border-color: transparent;\n",
              "      border-right-color: var(--fill-color);\n",
              "      border-bottom-color: var(--fill-color);\n",
              "    }\n",
              "    90% {\n",
              "      border-color: transparent;\n",
              "      border-bottom-color: var(--fill-color);\n",
              "    }\n",
              "  }\n",
              "</style>\n",
              "\n",
              "  <script>\n",
              "    async function quickchart(key) {\n",
              "      const quickchartButtonEl =\n",
              "        document.querySelector('#' + key + ' button');\n",
              "      quickchartButtonEl.disabled = true;  // To prevent multiple clicks.\n",
              "      quickchartButtonEl.classList.add('colab-df-spinner');\n",
              "      try {\n",
              "        const charts = await google.colab.kernel.invokeFunction(\n",
              "            'suggestCharts', [key], {});\n",
              "      } catch (error) {\n",
              "        console.error('Error during call to suggestCharts:', error);\n",
              "      }\n",
              "      quickchartButtonEl.classList.remove('colab-df-spinner');\n",
              "      quickchartButtonEl.classList.add('colab-df-quickchart-complete');\n",
              "    }\n",
              "    (() => {\n",
              "      let quickchartButtonEl =\n",
              "        document.querySelector('#df-69796a9a-e700-4c45-a499-7385d424b19f button');\n",
              "      quickchartButtonEl.style.display =\n",
              "        google.colab.kernel.accessAllowed ? 'block' : 'none';\n",
              "    })();\n",
              "  </script>\n",
              "</div>\n",
              "\n",
              "    </div>\n",
              "  </div>\n"
            ],
            "application/vnd.google.colaboratory.intrinsic+json": {
              "type": "dataframe",
              "variable_name": "df"
            }
          },
          "metadata": {},
          "execution_count": 2
        }
      ]
    },
    {
      "cell_type": "code",
      "source": [
        "df.shape"
      ],
      "metadata": {
        "colab": {
          "base_uri": "https://localhost:8080/"
        },
        "id": "fO8XW6PDXWut",
        "outputId": "cfe0113d-ece8-4a6c-dcf4-edf153c724ed"
      },
      "execution_count": null,
      "outputs": [
        {
          "output_type": "execute_result",
          "data": {
            "text/plain": [
              "(274423, 19)"
            ]
          },
          "metadata": {},
          "execution_count": 3
        }
      ]
    },
    {
      "cell_type": "code",
      "source": [
        "df.info()"
      ],
      "metadata": {
        "colab": {
          "base_uri": "https://localhost:8080/"
        },
        "id": "3CPLk3VpVBk6",
        "outputId": "511d7b0f-2268-46da-b37b-2b8ed38b88ee"
      },
      "execution_count": null,
      "outputs": [
        {
          "output_type": "stream",
          "name": "stdout",
          "text": [
            "<class 'pandas.core.frame.DataFrame'>\n",
            "RangeIndex: 274423 entries, 0 to 274422\n",
            "Data columns (total 19 columns):\n",
            " #   Column                Non-Null Count   Dtype  \n",
            "---  ------                --------------   -----  \n",
            " 0   index                 274423 non-null  int64  \n",
            " 1   ID                    274423 non-null  int64  \n",
            " 2   Case Number           274423 non-null  object \n",
            " 3   Date                  274423 non-null  object \n",
            " 4   Block                 274423 non-null  object \n",
            " 5   IUCR                  274423 non-null  object \n",
            " 6   Primary Type          274423 non-null  object \n",
            " 7   Description           274423 non-null  object \n",
            " 8   Location Description  274247 non-null  object \n",
            " 9   Arrest                274423 non-null  bool   \n",
            " 10  Domestic              274423 non-null  bool   \n",
            " 11  Beat                  274423 non-null  int64  \n",
            " 12  District              274423 non-null  int64  \n",
            " 13  Ward                  274421 non-null  float64\n",
            " 14  Community Area        274422 non-null  float64\n",
            " 15  FBI Code              274423 non-null  object \n",
            " 16  Latitude              269464 non-null  float64\n",
            " 17  Longitude             269464 non-null  float64\n",
            " 18  reference_date        274423 non-null  object \n",
            "dtypes: bool(2), float64(4), int64(4), object(9)\n",
            "memory usage: 36.1+ MB\n"
          ]
        }
      ]
    },
    {
      "cell_type": "markdown",
      "source": [
        "1.3. Persista o dado no DataFrame em um arquivo csv e em arquivos parquet, estes últimos comprimidos e particionados pela coluna `reference_date`."
      ],
      "metadata": {
        "id": "8oTn1Z1Md2GQ"
      }
    },
    {
      "cell_type": "code",
      "source": [
        "# Solução do item 1.3.\n",
        "\n",
        "#criando csv\n",
        "df.to_csv(f'./crime_dados_add.csv', index=False)\n",
        "\n",
        "#compactando\n",
        "df.to_parquet(f'./crime',\n",
        "              engine='pyarrow',\n",
        "              compression='gzip',\n",
        "              partition_cols=['reference_date'],\n",
        "              #adicionando o máximo de partições porque são muitas\n",
        "              max_partitions=20000)\n"
      ],
      "metadata": {
        "id": "-WDVXsIaaBnj"
      },
      "execution_count": null,
      "outputs": []
    },
    {
      "cell_type": "markdown",
      "source": [
        "1.4. Crie os recursos no AWS S3 e AWS IAM e persista os dados em seus respectivos *buckets*."
      ],
      "metadata": {
        "id": "LzXWWUWzeNxt"
      }
    },
    {
      "cell_type": "code",
      "source": [
        "# Solução do item 1.4.\n",
        "\n",
        "from getpass import getpass\n",
        "\n",
        "print('Digite suas credenciais:')\n",
        "print('\\nchave id:')\n",
        "aws_access_key_id = getpass()\n"
      ],
      "metadata": {
        "id": "91TxSnV-eNx7",
        "colab": {
          "base_uri": "https://localhost:8080/"
        },
        "outputId": "7a4ed66b-03fe-408e-8aac-c99b77359f5e"
      },
      "execution_count": null,
      "outputs": [
        {
          "name": "stdout",
          "output_type": "stream",
          "text": [
            "Digite suas credenciais:\n",
            "\n",
            "chave id:\n",
            "··········\n"
          ]
        }
      ]
    },
    {
      "cell_type": "code",
      "source": [
        "print('chave secreta:')\n",
        "aws_secret_access_key = getpass()"
      ],
      "metadata": {
        "colab": {
          "base_uri": "https://localhost:8080/"
        },
        "id": "JC8y_yYkuJ61",
        "outputId": "3322b8a3-139c-4aa1-a45a-a63d1c6d47b4"
      },
      "execution_count": null,
      "outputs": [
        {
          "name": "stdout",
          "output_type": "stream",
          "text": [
            "chave secreta:\n",
            "··········\n"
          ]
        }
      ]
    },
    {
      "cell_type": "code",
      "source": [
        "!pip install boto3"
      ],
      "metadata": {
        "colab": {
          "base_uri": "https://localhost:8080/"
        },
        "id": "ZHYZdEyBtrDK",
        "outputId": "3befe4ea-cfc1-44d3-e87f-35f0ae2723f6"
      },
      "execution_count": null,
      "outputs": [
        {
          "output_type": "stream",
          "name": "stdout",
          "text": [
            "Collecting boto3\n",
            "  Downloading boto3-1.35.35-py3-none-any.whl.metadata (6.6 kB)\n",
            "Collecting botocore<1.36.0,>=1.35.35 (from boto3)\n",
            "  Downloading botocore-1.35.35-py3-none-any.whl.metadata (5.6 kB)\n",
            "Collecting jmespath<2.0.0,>=0.7.1 (from boto3)\n",
            "  Downloading jmespath-1.0.1-py3-none-any.whl.metadata (7.6 kB)\n",
            "Collecting s3transfer<0.11.0,>=0.10.0 (from boto3)\n",
            "  Downloading s3transfer-0.10.2-py3-none-any.whl.metadata (1.7 kB)\n",
            "Requirement already satisfied: python-dateutil<3.0.0,>=2.1 in /usr/local/lib/python3.10/dist-packages (from botocore<1.36.0,>=1.35.35->boto3) (2.8.2)\n",
            "Requirement already satisfied: urllib3!=2.2.0,<3,>=1.25.4 in /usr/local/lib/python3.10/dist-packages (from botocore<1.36.0,>=1.35.35->boto3) (2.2.3)\n",
            "Requirement already satisfied: six>=1.5 in /usr/local/lib/python3.10/dist-packages (from python-dateutil<3.0.0,>=2.1->botocore<1.36.0,>=1.35.35->boto3) (1.16.0)\n",
            "Downloading boto3-1.35.35-py3-none-any.whl (139 kB)\n",
            "\u001b[2K   \u001b[90m━━━━━━━━━━━━━━━━━━━━━━━━━━━━━━━━━━━━━━━━\u001b[0m \u001b[32m139.1/139.1 kB\u001b[0m \u001b[31m4.1 MB/s\u001b[0m eta \u001b[36m0:00:00\u001b[0m\n",
            "\u001b[?25hDownloading botocore-1.35.35-py3-none-any.whl (12.6 MB)\n",
            "\u001b[2K   \u001b[90m━━━━━━━━━━━━━━━━━━━━━━━━━━━━━━━━━━━━━━━━\u001b[0m \u001b[32m12.6/12.6 MB\u001b[0m \u001b[31m57.8 MB/s\u001b[0m eta \u001b[36m0:00:00\u001b[0m\n",
            "\u001b[?25hDownloading jmespath-1.0.1-py3-none-any.whl (20 kB)\n",
            "Downloading s3transfer-0.10.2-py3-none-any.whl (82 kB)\n",
            "\u001b[2K   \u001b[90m━━━━━━━━━━━━━━━━━━━━━━━━━━━━━━━━━━━━━━━━\u001b[0m \u001b[32m82.7/82.7 kB\u001b[0m \u001b[31m5.2 MB/s\u001b[0m eta \u001b[36m0:00:00\u001b[0m\n",
            "\u001b[?25hInstalling collected packages: jmespath, botocore, s3transfer, boto3\n",
            "Successfully installed boto3-1.35.35 botocore-1.35.35 jmespath-1.0.1 s3transfer-0.10.2\n"
          ]
        }
      ]
    },
    {
      "cell_type": "code",
      "source": [
        "import boto3\n",
        "\n",
        "client = boto3.client(\n",
        "  's3',\n",
        "  aws_access_key_id=aws_access_key_id,\n",
        "  aws_secret_access_key=aws_secret_access_key\n",
        ")"
      ],
      "metadata": {
        "id": "kPjY9KhbtxtL"
      },
      "execution_count": null,
      "outputs": []
    },
    {
      "cell_type": "code",
      "source": [
        "import os\n",
        "\n",
        "BUCKET = 'modulo-41'\n",
        "\n",
        "i = 0\n",
        "\n",
        "#loop carregamento (visual)\n",
        "for root, dirs, files in os.walk('./crime'):\n",
        "  elapsed = f'{round(100*i/365, 2)} %'\n",
        "  print(elapsed)\n",
        "\n",
        "  #envio de arquivos ao bucket\n",
        "  for file in files:\n",
        "    path = os.path.join(root, file)\n",
        "    bucket_path = '/'.join(path.split(sep='/')[2:])\n",
        "    client.upload_file(path, BUCKET, bucket_path)\n",
        "  i = i + 1\n"
      ],
      "metadata": {
        "colab": {
          "base_uri": "https://localhost:8080/"
        },
        "collapsed": true,
        "id": "yMJlVhaetyoj",
        "outputId": "111b8caa-8fa8-4cd7-fcc1-844da4979600"
      },
      "execution_count": null,
      "outputs": [
        {
          "output_type": "stream",
          "name": "stdout",
          "text": [
            "0.0 %\n",
            "0.27 %\n",
            "0.55 %\n",
            "0.82 %\n",
            "1.1 %\n",
            "1.37 %\n",
            "1.64 %\n",
            "1.92 %\n",
            "2.19 %\n",
            "2.47 %\n",
            "2.74 %\n",
            "3.01 %\n",
            "3.29 %\n",
            "3.56 %\n",
            "3.84 %\n",
            "4.11 %\n",
            "4.38 %\n",
            "4.66 %\n",
            "4.93 %\n",
            "5.21 %\n",
            "5.48 %\n",
            "5.75 %\n",
            "6.03 %\n",
            "6.3 %\n",
            "6.58 %\n",
            "6.85 %\n",
            "7.12 %\n",
            "7.4 %\n",
            "7.67 %\n",
            "7.95 %\n",
            "8.22 %\n",
            "8.49 %\n",
            "8.77 %\n",
            "9.04 %\n",
            "9.32 %\n",
            "9.59 %\n",
            "9.86 %\n",
            "10.14 %\n",
            "10.41 %\n",
            "10.68 %\n",
            "10.96 %\n",
            "11.23 %\n",
            "11.51 %\n",
            "11.78 %\n",
            "12.05 %\n",
            "12.33 %\n",
            "12.6 %\n",
            "12.88 %\n",
            "13.15 %\n",
            "13.42 %\n",
            "13.7 %\n",
            "13.97 %\n",
            "14.25 %\n",
            "14.52 %\n",
            "14.79 %\n",
            "15.07 %\n",
            "15.34 %\n",
            "15.62 %\n",
            "15.89 %\n",
            "16.16 %\n",
            "16.44 %\n",
            "16.71 %\n",
            "16.99 %\n",
            "17.26 %\n",
            "17.53 %\n",
            "17.81 %\n",
            "18.08 %\n",
            "18.36 %\n",
            "18.63 %\n",
            "18.9 %\n",
            "19.18 %\n",
            "19.45 %\n",
            "19.73 %\n",
            "20.0 %\n",
            "20.27 %\n",
            "20.55 %\n",
            "20.82 %\n",
            "21.1 %\n",
            "21.37 %\n",
            "21.64 %\n",
            "21.92 %\n",
            "22.19 %\n",
            "22.47 %\n",
            "22.74 %\n",
            "23.01 %\n",
            "23.29 %\n",
            "23.56 %\n",
            "23.84 %\n",
            "24.11 %\n",
            "24.38 %\n",
            "24.66 %\n",
            "24.93 %\n",
            "25.21 %\n",
            "25.48 %\n",
            "25.75 %\n",
            "26.03 %\n",
            "26.3 %\n",
            "26.58 %\n",
            "26.85 %\n",
            "27.12 %\n",
            "27.4 %\n",
            "27.67 %\n",
            "27.95 %\n",
            "28.22 %\n",
            "28.49 %\n",
            "28.77 %\n",
            "29.04 %\n",
            "29.32 %\n",
            "29.59 %\n",
            "29.86 %\n",
            "30.14 %\n",
            "30.41 %\n",
            "30.68 %\n",
            "30.96 %\n",
            "31.23 %\n",
            "31.51 %\n",
            "31.78 %\n",
            "32.05 %\n",
            "32.33 %\n",
            "32.6 %\n",
            "32.88 %\n",
            "33.15 %\n",
            "33.42 %\n",
            "33.7 %\n",
            "33.97 %\n",
            "34.25 %\n",
            "34.52 %\n",
            "34.79 %\n",
            "35.07 %\n",
            "35.34 %\n",
            "35.62 %\n",
            "35.89 %\n",
            "36.16 %\n",
            "36.44 %\n",
            "36.71 %\n",
            "36.99 %\n",
            "37.26 %\n",
            "37.53 %\n",
            "37.81 %\n",
            "38.08 %\n",
            "38.36 %\n",
            "38.63 %\n",
            "38.9 %\n",
            "39.18 %\n",
            "39.45 %\n",
            "39.73 %\n",
            "40.0 %\n",
            "40.27 %\n",
            "40.55 %\n",
            "40.82 %\n",
            "41.1 %\n",
            "41.37 %\n",
            "41.64 %\n",
            "41.92 %\n",
            "42.19 %\n",
            "42.47 %\n",
            "42.74 %\n",
            "43.01 %\n",
            "43.29 %\n",
            "43.56 %\n",
            "43.84 %\n",
            "44.11 %\n",
            "44.38 %\n",
            "44.66 %\n",
            "44.93 %\n",
            "45.21 %\n",
            "45.48 %\n",
            "45.75 %\n",
            "46.03 %\n",
            "46.3 %\n",
            "46.58 %\n",
            "46.85 %\n",
            "47.12 %\n",
            "47.4 %\n",
            "47.67 %\n",
            "47.95 %\n",
            "48.22 %\n",
            "48.49 %\n",
            "48.77 %\n",
            "49.04 %\n",
            "49.32 %\n",
            "49.59 %\n",
            "49.86 %\n",
            "50.14 %\n",
            "50.41 %\n",
            "50.68 %\n",
            "50.96 %\n",
            "51.23 %\n",
            "51.51 %\n",
            "51.78 %\n",
            "52.05 %\n",
            "52.33 %\n",
            "52.6 %\n",
            "52.88 %\n",
            "53.15 %\n",
            "53.42 %\n",
            "53.7 %\n",
            "53.97 %\n",
            "54.25 %\n",
            "54.52 %\n",
            "54.79 %\n",
            "55.07 %\n",
            "55.34 %\n",
            "55.62 %\n",
            "55.89 %\n",
            "56.16 %\n",
            "56.44 %\n",
            "56.71 %\n",
            "56.99 %\n",
            "57.26 %\n",
            "57.53 %\n",
            "57.81 %\n",
            "58.08 %\n",
            "58.36 %\n",
            "58.63 %\n",
            "58.9 %\n",
            "59.18 %\n",
            "59.45 %\n",
            "59.73 %\n",
            "60.0 %\n",
            "60.27 %\n",
            "60.55 %\n",
            "60.82 %\n",
            "61.1 %\n",
            "61.37 %\n",
            "61.64 %\n",
            "61.92 %\n",
            "62.19 %\n",
            "62.47 %\n",
            "62.74 %\n",
            "63.01 %\n",
            "63.29 %\n",
            "63.56 %\n",
            "63.84 %\n",
            "64.11 %\n",
            "64.38 %\n",
            "64.66 %\n",
            "64.93 %\n",
            "65.21 %\n",
            "65.48 %\n",
            "65.75 %\n",
            "66.03 %\n",
            "66.3 %\n",
            "66.58 %\n",
            "66.85 %\n",
            "67.12 %\n",
            "67.4 %\n",
            "67.67 %\n",
            "67.95 %\n",
            "68.22 %\n",
            "68.49 %\n",
            "68.77 %\n",
            "69.04 %\n",
            "69.32 %\n",
            "69.59 %\n",
            "69.86 %\n",
            "70.14 %\n",
            "70.41 %\n",
            "70.68 %\n",
            "70.96 %\n",
            "71.23 %\n",
            "71.51 %\n",
            "71.78 %\n",
            "72.05 %\n",
            "72.33 %\n",
            "72.6 %\n",
            "72.88 %\n",
            "73.15 %\n",
            "73.42 %\n",
            "73.7 %\n",
            "73.97 %\n",
            "74.25 %\n",
            "74.52 %\n",
            "74.79 %\n",
            "75.07 %\n",
            "75.34 %\n",
            "75.62 %\n",
            "75.89 %\n",
            "76.16 %\n",
            "76.44 %\n",
            "76.71 %\n",
            "76.99 %\n",
            "77.26 %\n",
            "77.53 %\n",
            "77.81 %\n",
            "78.08 %\n",
            "78.36 %\n",
            "78.63 %\n",
            "78.9 %\n",
            "79.18 %\n",
            "79.45 %\n",
            "79.73 %\n",
            "80.0 %\n",
            "80.27 %\n",
            "80.55 %\n",
            "80.82 %\n",
            "81.1 %\n",
            "81.37 %\n",
            "81.64 %\n",
            "81.92 %\n",
            "82.19 %\n",
            "82.47 %\n",
            "82.74 %\n",
            "83.01 %\n",
            "83.29 %\n",
            "83.56 %\n",
            "83.84 %\n",
            "84.11 %\n",
            "84.38 %\n",
            "84.66 %\n",
            "84.93 %\n",
            "85.21 %\n",
            "85.48 %\n",
            "85.75 %\n",
            "86.03 %\n",
            "86.3 %\n",
            "86.58 %\n",
            "86.85 %\n",
            "87.12 %\n",
            "87.4 %\n",
            "87.67 %\n",
            "87.95 %\n",
            "88.22 %\n",
            "88.49 %\n",
            "88.77 %\n",
            "89.04 %\n",
            "89.32 %\n",
            "89.59 %\n",
            "89.86 %\n",
            "90.14 %\n",
            "90.41 %\n",
            "90.68 %\n",
            "90.96 %\n",
            "91.23 %\n",
            "91.51 %\n",
            "91.78 %\n",
            "92.05 %\n",
            "92.33 %\n",
            "92.6 %\n",
            "92.88 %\n",
            "93.15 %\n",
            "93.42 %\n",
            "93.7 %\n",
            "93.97 %\n",
            "94.25 %\n",
            "94.52 %\n",
            "94.79 %\n",
            "95.07 %\n",
            "95.34 %\n",
            "95.62 %\n",
            "95.89 %\n",
            "96.16 %\n",
            "96.44 %\n",
            "96.71 %\n",
            "96.99 %\n",
            "97.26 %\n",
            "97.53 %\n",
            "97.81 %\n",
            "98.08 %\n",
            "98.36 %\n",
            "98.63 %\n",
            "98.9 %\n",
            "99.18 %\n",
            "99.45 %\n",
            "99.73 %\n",
            "100.0 %\n"
          ]
        }
      ]
    },
    {
      "cell_type": "markdown",
      "source": [
        "1.5. Crie os recursos no AWS Athena e execute as consultas SQL da aula."
      ],
      "metadata": {
        "id": "_D2WT_iueaRr"
      }
    },
    {
      "cell_type": "code",
      "source": [
        "# Solução do item 1.5."
      ],
      "metadata": {
        "id": "y3idc49neaRt"
      },
      "execution_count": null,
      "outputs": []
    },
    {
      "cell_type": "markdown",
      "source": [
        "#Tabela"
      ],
      "metadata": {
        "id": "Bz8CHo83AOXj"
      }
    },
    {
      "cell_type": "markdown",
      "source": [
        "Criando tabela csv\n",
        "\n",
        "```sql\n",
        "CREATE EXTERNAL TABLE `crime_csv`(\n",
        "  `index` bigint,\n",
        "  `id` string,\n",
        "  `case number` string,\n",
        "  `date` string,\n",
        "  `block` string,\n",
        "  `iucr` string,\n",
        "  `primary type` string,\n",
        "  `description` string,\n",
        "  `location description` string,\n",
        "  `arrest` string,\n",
        "  `domestic` string,\n",
        "  `beat` string,\n",
        "  `district` string,\n",
        "  `ward` string,\n",
        "  `community area` string,\n",
        "  `fbi code` string,\n",
        "  `latitude` string,\n",
        "  `longitude` string,\n",
        "  `reference_date` string)\n",
        "ROW FORMAT SERDE\n",
        "  'org.apache.hadoop.hive.serde2.OpenCSVSerde'\n",
        " WITH SERDEPROPERTIES (\n",
        "   'separatorChar' = ',',\n",
        "   'quoteChar' = '\\\"',\n",
        "   'escapeChar' = '\\\\'\n",
        "   )\n",
        "STORED AS INPUTFORMAT\n",
        "  'org.apache.hadoop.mapred.TextInputFormat'\n",
        "OUTPUTFORMAT\n",
        "  'org.apache.hadoop.hive.ql.io.HiveIgnoreKeyTextOutputFormat'\n",
        "LOCATION\n",
        "  's3://modulo-41-planilha/'\n",
        "TBLPROPERTIES (\n",
        "  \"skip.header.line.count\"=\"1\")\n",
        "```"
      ],
      "metadata": {
        "id": "CSyZ-f8l3Qaa"
      }
    },
    {
      "cell_type": "markdown",
      "source": [
        "Criando tabela parquet\n",
        "\n",
        "```sql\n",
        "CREATE EXTERNAL TABLE `crime_parquet`(\n",
        "  `index` bigint,\n",
        "  `id` bigint,\n",
        "  `case number` string,\n",
        "  `date` string,\n",
        "  `block` string,\n",
        "  `iucr` string,\n",
        "  `primary type` string,\n",
        "  `description` string,\n",
        "  `location description` string,\n",
        "  `arrest` boolean,\n",
        "  `domestic` boolean,\n",
        "  `beat` bigint,\n",
        "  `district` bigint,\n",
        "  `ward` double,\n",
        "  `community area` double,\n",
        "  `fbi code` string,\n",
        "  `latitude` double,\n",
        "  `longitude` double)\n",
        "PARTITIONED BY (\n",
        "  `reference_date` string)\n",
        "ROW FORMAT SERDE\n",
        "  'org.apache.hadoop.hive.ql.io.parquet.serde.ParquetHiveSerDe'\n",
        "STORED AS INPUTFORMAT\n",
        "  'org.apache.hadoop.hive.ql.io.parquet.MapredParquetInputFormat'\n",
        "OUTPUTFORMAT\n",
        "  'org.apache.hadoop.hive.ql.io.parquet.MapredParquetOutputFormat'\n",
        "LOCATION\n",
        "  's3://modulo-41/'\n",
        "```"
      ],
      "metadata": {
        "id": "3RLK_kWP3QOE"
      }
    },
    {
      "cell_type": "markdown",
      "source": [
        "```sql\n",
        "MSCK REPAIR TABLE `crime_parquet`;\n",
        "```"
      ],
      "metadata": {
        "id": "fhdGNbHS3QDY"
      }
    },
    {
      "cell_type": "markdown",
      "source": [
        "#Seleção"
      ],
      "metadata": {
        "id": "z1Dqc3TWATfl"
      }
    },
    {
      "cell_type": "markdown",
      "source": [
        "###Seleção da tabela crime_csv:"
      ],
      "metadata": {
        "id": "ugM6w0vc4UJM"
      }
    },
    {
      "cell_type": "markdown",
      "source": [
        "```sql\n",
        "SELECT \"location description\", COUNT(1) as \"amount\"\n",
        "FROM crime_csv\n",
        "GROUP BY 1\n",
        "ORDER BY 2 DESC;\n",
        "```"
      ],
      "metadata": {
        "id": "nXfoU1kV3PuF"
      }
    },
    {
      "cell_type": "code",
      "source": [
        "!wget https://raw.githubusercontent.com/mariaefoliveira/Analise-de-Dados/refs/heads/main/Atividades%20-%20Ebac/Atividade%2041%20-%20Ebac/Planilhas/descricao-local-csv.csv"
      ],
      "metadata": {
        "colab": {
          "base_uri": "https://localhost:8080/"
        },
        "collapsed": true,
        "id": "xSVIETfd85lC",
        "outputId": "6441a19f-7cf6-4141-b347-5a838e827fe6"
      },
      "execution_count": null,
      "outputs": [
        {
          "output_type": "stream",
          "name": "stdout",
          "text": [
            "--2024-10-08 16:26:51--  https://raw.githubusercontent.com/mariaefoliveira/Analise-de-Dados/refs/heads/main/Atividades%20-%20Ebac/Atividade%2041%20-%20Ebac/Planilhas/descricao-local-csv.csv\n",
            "Resolving raw.githubusercontent.com (raw.githubusercontent.com)... 185.199.110.133, 185.199.108.133, 185.199.109.133, ...\n",
            "Connecting to raw.githubusercontent.com (raw.githubusercontent.com)|185.199.110.133|:443... connected.\n",
            "HTTP request sent, awaiting response... 200 OK\n",
            "Length: 3239 (3.2K) [text/plain]\n",
            "Saving to: ‘descricao-local-csv.csv’\n",
            "\n",
            "\rdescricao-local-csv   0%[                    ]       0  --.-KB/s               \rdescricao-local-csv 100%[===================>]   3.16K  --.-KB/s    in 0s      \n",
            "\n",
            "2024-10-08 16:26:51 (26.2 MB/s) - ‘descricao-local-csv.csv’ saved [3239/3239]\n",
            "\n"
          ]
        }
      ]
    },
    {
      "cell_type": "markdown",
      "source": [
        "###Imagem seleção"
      ],
      "metadata": {
        "id": "O67ywxp2Asfi"
      }
    },
    {
      "cell_type": "markdown",
      "source": [
        "![descricao-localizacao-csv](https://github.com/mariaefoliveira/Analise-de-Dados/blob/main/Atividades%20-%20Ebac/Atividade%2041%20-%20Ebac/Imagem/descricao-local-csv.png?raw=true)"
      ],
      "metadata": {
        "id": "1dsth4XN4CTp"
      }
    },
    {
      "cell_type": "markdown",
      "source": [
        "###Seleção da tabela crime_parquet:"
      ],
      "metadata": {
        "id": "Wc3oDcBa4bVy"
      }
    },
    {
      "cell_type": "markdown",
      "source": [
        "```sql\n",
        "SELECT \"location description\", COUNT(1) as \"amount\"\n",
        "FROM crime_parquet\n",
        "GROUP BY 1\n",
        "ORDER BY 2 DESC;\n",
        "```"
      ],
      "metadata": {
        "id": "Q_HJsFCC313m"
      }
    },
    {
      "cell_type": "code",
      "source": [
        "!wget https://raw.githubusercontent.com/mariaefoliveira/Analise-de-Dados/refs/heads/main/Atividades%20-%20Ebac/Atividade%2041%20-%20Ebac/Planilhas/descricao-local-parquet.csv"
      ],
      "metadata": {
        "colab": {
          "base_uri": "https://localhost:8080/"
        },
        "collapsed": true,
        "id": "9KRihE2k8-PJ",
        "outputId": "481a5a3c-29ac-42f8-d775-43b620c4bf43"
      },
      "execution_count": null,
      "outputs": [
        {
          "output_type": "stream",
          "name": "stdout",
          "text": [
            "--2024-10-08 16:27:00--  https://raw.githubusercontent.com/mariaefoliveira/Analise-de-Dados/refs/heads/main/Atividades%20-%20Ebac/Atividade%2041%20-%20Ebac/Planilhas/descricao-local-parquet.csv\n",
            "Resolving raw.githubusercontent.com (raw.githubusercontent.com)... 185.199.109.133, 185.199.108.133, 185.199.111.133, ...\n",
            "Connecting to raw.githubusercontent.com (raw.githubusercontent.com)|185.199.109.133|:443... connected.\n",
            "HTTP request sent, awaiting response... 200 OK\n",
            "Length: 3237 (3.2K) [text/plain]\n",
            "Saving to: ‘descricao-local-parquet.csv’\n",
            "\n",
            "\r          descricao   0%[                    ]       0  --.-KB/s               \rdescricao-local-par 100%[===================>]   3.16K  --.-KB/s    in 0s      \n",
            "\n",
            "2024-10-08 16:27:00 (44.7 MB/s) - ‘descricao-local-parquet.csv’ saved [3237/3237]\n",
            "\n"
          ]
        }
      ]
    },
    {
      "cell_type": "markdown",
      "source": [
        "###Imagem seleção"
      ],
      "metadata": {
        "id": "zNWSFphLAxlL"
      }
    },
    {
      "cell_type": "markdown",
      "source": [
        "![descricao-localizacao-parquet](https://github.com/mariaefoliveira/Analise-de-Dados/blob/main/Atividades%20-%20Ebac/Atividade%2041%20-%20Ebac/Imagem/descricao-local-parquet.png?raw=true)"
      ],
      "metadata": {
        "id": "3RyxkJZo4JOC"
      }
    },
    {
      "cell_type": "markdown",
      "source": [
        "###Seleção da tabela crime_csv:"
      ],
      "metadata": {
        "id": "xXE6YNsu4d8E"
      }
    },
    {
      "cell_type": "markdown",
      "source": [
        "```sql\n",
        "SELECT * FROM crime_csv\n",
        "WHERE CAST(date_parse(replace(reference_date, '-', '/'), '%m/%d/%Y') as DATE)\n",
        "BETWEEN DATE '2014-12-01' and DATE '2014-12-31';\n",
        "```"
      ],
      "metadata": {
        "id": "VBCWVYqJ4K24"
      }
    },
    {
      "cell_type": "code",
      "source": [
        "!wget https://raw.githubusercontent.com/mariaefoliveira/Analise-de-Dados/refs/heads/main/Atividades%20-%20Ebac/Atividade%2041%20-%20Ebac/Planilhas/tabela-csv-filtrada.csv"
      ],
      "metadata": {
        "colab": {
          "base_uri": "https://localhost:8080/"
        },
        "collapsed": true,
        "id": "PkTjosGG9aQX",
        "outputId": "b93be0f3-630b-4e72-c8dd-d267fbce4f43"
      },
      "execution_count": null,
      "outputs": [
        {
          "output_type": "stream",
          "name": "stdout",
          "text": [
            "--2024-10-08 16:28:19--  https://raw.githubusercontent.com/mariaefoliveira/Analise-de-Dados/refs/heads/main/Atividades%20-%20Ebac/Atividade%2041%20-%20Ebac/Planilhas/tabela-csv-filtrada.csv\n",
            "Resolving raw.githubusercontent.com (raw.githubusercontent.com)... 185.199.108.133, 185.199.109.133, 185.199.110.133, ...\n",
            "Connecting to raw.githubusercontent.com (raw.githubusercontent.com)|185.199.108.133|:443... connected.\n",
            "HTTP request sent, awaiting response... 200 OK\n",
            "Length: 4567925 (4.4M) [text/plain]\n",
            "Saving to: ‘tabela-csv-filtrada.csv’\n",
            "\n",
            "tabela-csv-filtrada 100%[===================>]   4.36M  --.-KB/s    in 0.05s   \n",
            "\n",
            "2024-10-08 16:28:19 (80.6 MB/s) - ‘tabela-csv-filtrada.csv’ saved [4567925/4567925]\n",
            "\n"
          ]
        }
      ]
    },
    {
      "cell_type": "markdown",
      "source": [
        "###Tempo de execução:"
      ],
      "metadata": {
        "id": "Ku7WAYC2-Y_l"
      }
    },
    {
      "cell_type": "markdown",
      "source": [
        "![tempo-execucao-csv](https://github.com/mariaefoliveira/Analise-de-Dados/blob/main/Atividades%20-%20Ebac/Atividade%2041%20-%20Ebac/Imagem/tempo-execucao-csv-dado-completo.png?raw=true)"
      ],
      "metadata": {
        "id": "3r3FW9Sa4gQX"
      }
    },
    {
      "cell_type": "markdown",
      "source": [
        "###Seleção da tabela crime_parquet:"
      ],
      "metadata": {
        "id": "35GPmAgd4fty"
      }
    },
    {
      "cell_type": "markdown",
      "source": [
        "```sql\n",
        "SELECT * FROM crime_parquet\n",
        "WHERE CAST(date_parse(replace(reference_date, '-', '/'), '%m/%d/%Y') as DATE)\n",
        "BETWEEN DATE '2014-12-01' and DATE '2014-12-31';\n",
        "```"
      ],
      "metadata": {
        "id": "HybfZk1U4orh"
      }
    },
    {
      "cell_type": "code",
      "source": [
        "!wget https://raw.githubusercontent.com/mariaefoliveira/Analise-de-Dados/refs/heads/main/Atividades%20-%20Ebac/Atividade%2041%20-%20Ebac/Planilhas/tabela-parquet-filtrada.csv"
      ],
      "metadata": {
        "colab": {
          "base_uri": "https://localhost:8080/"
        },
        "collapsed": true,
        "id": "Y5K9CuG09dkm",
        "outputId": "d2f2b677-1b77-4db7-f416-df88f4e3bc5e"
      },
      "execution_count": null,
      "outputs": [
        {
          "output_type": "stream",
          "name": "stdout",
          "text": [
            "--2024-10-08 16:28:56--  https://raw.githubusercontent.com/mariaefoliveira/Analise-de-Dados/refs/heads/main/Atividades%20-%20Ebac/Atividade%2041%20-%20Ebac/Planilhas/tabela-parquet-filtrada.csv\n",
            "Resolving raw.githubusercontent.com (raw.githubusercontent.com)... 185.199.109.133, 185.199.108.133, 185.199.110.133, ...\n",
            "Connecting to raw.githubusercontent.com (raw.githubusercontent.com)|185.199.109.133|:443... connected.\n",
            "HTTP request sent, awaiting response... 200 OK\n",
            "Length: 4565279 (4.4M) [text/plain]\n",
            "Saving to: ‘tabela-parquet-filtrada.csv’\n",
            "\n",
            "tabela-parquet-filt 100%[===================>]   4.35M  --.-KB/s    in 0.06s   \n",
            "\n",
            "2024-10-08 16:28:56 (69.4 MB/s) - ‘tabela-parquet-filtrada.csv’ saved [4565279/4565279]\n",
            "\n"
          ]
        }
      ]
    },
    {
      "cell_type": "markdown",
      "source": [
        "###Tempo de execução:"
      ],
      "metadata": {
        "id": "XJbR9lkh-YYU"
      }
    },
    {
      "cell_type": "markdown",
      "source": [
        "![tempo-execucao-parquet](https://github.com/mariaefoliveira/Analise-de-Dados/blob/main/Atividades%20-%20Ebac/Atividade%2041%20-%20Ebac/Imagem/tempo-execucao-parquet-dado-completo.png?raw=true)"
      ],
      "metadata": {
        "id": "gujhw6cm4oPB"
      }
    },
    {
      "cell_type": "markdown",
      "source": [
        "###Seleção da tabela crime_csv:\n",
        "\n",
        "```sql\n",
        "SELECT \"location description\", COUNT(1) as \"amount\"\n",
        "FROM crime_csv\n",
        "WHERE CAST(date_parse(replace(reference_date, '-', '/'), '%m/%d/%Y') as DATE)\n",
        "BETWEEN DATE '2014-12-01' and DATE '2014-12-31'\n",
        "GROUP BY 1\n",
        "ORDER BY 2 DESC;\n",
        "```"
      ],
      "metadata": {
        "id": "u-JgsHlx5dhM"
      }
    },
    {
      "cell_type": "code",
      "source": [
        "!wget https://raw.githubusercontent.com/mariaefoliveira/Analise-de-Dados/refs/heads/main/Atividades%20-%20Ebac/Atividade%2041%20-%20Ebac/Planilhas/tabela-csv-filtrada-2-colunas.csv"
      ],
      "metadata": {
        "colab": {
          "base_uri": "https://localhost:8080/"
        },
        "collapsed": true,
        "id": "w-c1GbR19nag",
        "outputId": "8e145871-d257-4762-dd85-6f860c9b07b3"
      },
      "execution_count": null,
      "outputs": [
        {
          "output_type": "stream",
          "name": "stdout",
          "text": [
            "--2024-10-08 16:29:45--  https://raw.githubusercontent.com/mariaefoliveira/Analise-de-Dados/refs/heads/main/Atividades%20-%20Ebac/Atividade%2041%20-%20Ebac/Planilhas/tabela-csv-filtrada-2-colunas.csv\n",
            "Resolving raw.githubusercontent.com (raw.githubusercontent.com)... 185.199.108.133, 185.199.109.133, 185.199.110.133, ...\n",
            "Connecting to raw.githubusercontent.com (raw.githubusercontent.com)|185.199.108.133|:443... connected.\n",
            "HTTP request sent, awaiting response... 200 OK\n",
            "Length: 2694 (2.6K) [text/plain]\n",
            "Saving to: ‘tabela-csv-filtrada-2-colunas.csv’\n",
            "\n",
            "\r          tabela-cs   0%[                    ]       0  --.-KB/s               \rtabela-csv-filtrada 100%[===================>]   2.63K  --.-KB/s    in 0s      \n",
            "\n",
            "2024-10-08 16:29:45 (22.8 MB/s) - ‘tabela-csv-filtrada-2-colunas.csv’ saved [2694/2694]\n",
            "\n"
          ]
        }
      ]
    },
    {
      "cell_type": "markdown",
      "source": [
        "###Tempo de execução:"
      ],
      "metadata": {
        "id": "XZV5VKFv-Xns"
      }
    },
    {
      "cell_type": "markdown",
      "source": [
        "![tempo-execucao-csv](https://github.com/mariaefoliveira/Analise-de-Dados/blob/main/Atividades%20-%20Ebac/Atividade%2041%20-%20Ebac/Imagem/tempo-execucao-csv-duas-colunas.png?raw=true)"
      ],
      "metadata": {
        "id": "h6laGh01648U"
      }
    },
    {
      "cell_type": "markdown",
      "source": [
        "###Seleção da tabela crime_parquet:\n",
        "\n",
        "```sql\n",
        "SELECT \"location description\", COUNT(1) as \"amount\"\n",
        "FROM crime_parquet\n",
        "WHERE CAST(date_parse(replace(reference_date, '-', '/'), '%m/%d/%Y') as DATE)\n",
        "BETWEEN DATE '2014-12-01' and DATE '2014-12-31'\n",
        "GROUP BY 1\n",
        "ORDER BY 2 DESC;\n",
        "```"
      ],
      "metadata": {
        "id": "GmsyT6TA5ssV"
      }
    },
    {
      "cell_type": "code",
      "source": [
        "!wget https://raw.githubusercontent.com/mariaefoliveira/Analise-de-Dados/refs/heads/main/Atividades%20-%20Ebac/Atividade%2041%20-%20Ebac/Planilhas/tabela-parquet-filtrada-2-colunas.csv"
      ],
      "metadata": {
        "colab": {
          "base_uri": "https://localhost:8080/"
        },
        "collapsed": true,
        "id": "V8fox6Ox9n3_",
        "outputId": "b6cc0d45-7030-40e6-a21a-f96d9730bae3"
      },
      "execution_count": null,
      "outputs": [
        {
          "output_type": "stream",
          "name": "stdout",
          "text": [
            "--2024-10-08 16:29:58--  https://raw.githubusercontent.com/mariaefoliveira/Analise-de-Dados/refs/heads/main/Atividades%20-%20Ebac/Atividade%2041%20-%20Ebac/Planilhas/tabela-parquet-filtrada-2-colunas.csv\n",
            "Resolving raw.githubusercontent.com (raw.githubusercontent.com)... 185.199.108.133, 185.199.109.133, 185.199.110.133, ...\n",
            "Connecting to raw.githubusercontent.com (raw.githubusercontent.com)|185.199.108.133|:443... connected.\n",
            "HTTP request sent, awaiting response... 200 OK\n",
            "Length: 2692 (2.6K) [text/plain]\n",
            "Saving to: ‘tabela-parquet-filtrada-2-colunas.csv’\n",
            "\n",
            "\r          tabela-pa   0%[                    ]       0  --.-KB/s               \rtabela-parquet-filt 100%[===================>]   2.63K  --.-KB/s    in 0s      \n",
            "\n",
            "2024-10-08 16:29:58 (40.1 MB/s) - ‘tabela-parquet-filtrada-2-colunas.csv’ saved [2692/2692]\n",
            "\n"
          ]
        }
      ]
    },
    {
      "cell_type": "markdown",
      "source": [
        "###Tempo de execução:"
      ],
      "metadata": {
        "id": "VVCyVDWQ-TvV"
      }
    },
    {
      "cell_type": "markdown",
      "source": [
        "![tempo-execucao-parquet](https://github.com/mariaefoliveira/Analise-de-Dados/blob/main/Atividades%20-%20Ebac/Atividade%2041%20-%20Ebac/Imagem/tempo-execucao-parquet-duas-colunas.png?raw=true)"
      ],
      "metadata": {
        "id": "YvkrAkpH6-gF"
      }
    },
    {
      "cell_type": "markdown",
      "source": [
        "# Conclusão\n",
        "\n",
        "Ao comparar o tempo de execução da consulta de uma tabela **csv** e com o **parquet**, foi perceptível que o do **parquet** teve uma execução bem mais rápida, tendo o tamanho de dados verificado bem menor do que o do **csv**\n",
        "\n",
        "Ocasionando numa execução mais rápida e que exige menos processamento."
      ],
      "metadata": {
        "id": "vPClY1Lu-8Fg"
      }
    }
  ]
}