{
  "nbformat": 4,
  "nbformat_minor": 0,
  "metadata": {
    "colab": {
      "provenance": [],
      "collapsed_sections": [
        "JG1HL69-j0lH",
        "s_Dj-BgThLg5",
        "jeEzLmuRhDQy",
        "PoTeRwlihDQ0",
        "QpMlxqRyhDQ1",
        "ov7Fg-mWhDQ1",
        "DvHPNAoPgdiG",
        "3SMp5GwjglJm",
        "e3ieQfXTgqd3",
        "L0pKWNr5fm9z",
        "DMhCpOU_gupo",
        "l3h0WP2Eg2ht",
        "rWG4Vk6XaWtf",
        "wkibgd8rB8y3",
        "IjPaJtnYE0MI",
        "2lpj1rszc--m",
        "HnWg_mhLd5gC",
        "RhqmXiHQo-is",
        "SvT9xrajLL7J",
        "91eSyA2cLLqv"
      ]
    },
    "kernelspec": {
      "name": "python3",
      "display_name": "Python 3"
    }
  },
  "cells": [
    {
      "cell_type": "markdown",
      "metadata": {
        "id": "KJqp9AANOCtf"
      },
      "source": [
        "<img src=\"https://raw.githubusercontent.com/andre-marcos-perez/ebac-course-utils/main/media/logo/newebac_logo_black_half.png\" alt=\"ebac-logo\">\n",
        "\n",
        "---\n",
        "\n",
        "# **Módulo** | Pipeline de Dados do Telegram I\n",
        "Caderno de **Exercícios**<br>\n",
        "Professor [André Perez](https://www.linkedin.com/in/andremarcosperez/)\n",
        "\n",
        "---"
      ]
    },
    {
      "cell_type": "markdown",
      "metadata": {
        "id": "d9jDtUbDOE1-"
      },
      "source": [
        "# **Tópicos**\n",
        "\n",
        "<ol type=\"1\">\n",
        "  <li>Contexto;</li>\n",
        "  <li>Telegram;</li>\n",
        "  <li>Dados.</li>\n",
        "</ol>"
      ]
    },
    {
      "cell_type": "markdown",
      "metadata": {
        "id": "SmoHgt-lwkpD"
      },
      "source": [
        "---"
      ]
    },
    {
      "cell_type": "markdown",
      "metadata": {
        "id": "GABI6OW8OfQ2"
      },
      "source": [
        "# **Exercícios**"
      ]
    },
    {
      "cell_type": "markdown",
      "metadata": {
        "id": "ne7Ay0HKaGSv"
      },
      "source": [
        "## 1\\. Telegram."
      ]
    },
    {
      "cell_type": "markdown",
      "metadata": {
        "id": "OQxOVktrzG9I"
      },
      "source": [
        "Replique as atividades da aula 2."
      ]
    },
    {
      "cell_type": "markdown",
      "source": [
        "1.1. Crie uma conta no **Telegram** caso não possua uma e faça o login na versão web da ferramenta através desse [link](https://web.telegram.org)."
      ],
      "metadata": {
        "id": "E69nBHvAa_O5"
      }
    },
    {
      "cell_type": "markdown",
      "source": [
        "Primeira coisa a ser feita foi acessar a conta no telegram já existente, devendo ser criado um bot no BotFather para que esse robô possa captar as mensagens do grupo e processar no aws.\n",
        "\n",
        "---\n",
        "#### Acessar BotFather para criar o bot\n",
        "![BotFather para criar o robô](https://github.com/mariaefoliveira/Analise-de-Dados/blob/main/Atividades%20-%20Ebac/Atividade%2042%20-%20Ebac%20-%20Projeto/Imagem/BotFather.png?raw=true)"
      ],
      "metadata": {
        "id": "cdGyfs9QzXy9"
      }
    },
    {
      "cell_type": "markdown",
      "source": [
        "1.2. Crie um *bot*."
      ],
      "metadata": {
        "id": "R9Ils6eccOLS"
      }
    },
    {
      "cell_type": "markdown",
      "source": [
        "#### Criando bot\n",
        "![Criando bot](https://github.com/mariaefoliveira/Analise-de-Dados/blob/main/Atividades%20-%20Ebac/Atividade%2042%20-%20Ebac%20-%20Projeto/Imagem/Criando%20bot.png?raw=true)"
      ],
      "metadata": {
        "id": "d4I6KF7Ztu_h"
      }
    },
    {
      "cell_type": "markdown",
      "source": [
        "1.3. Crie um grupo e adicione o *bot*."
      ],
      "metadata": {
        "id": "8oTn1Z1Md2GQ"
      }
    },
    {
      "cell_type": "markdown",
      "source": [
        "#### Criando grupo\n",
        "![Criando grupo](https://github.com/mariaefoliveira/Analise-de-Dados/blob/main/Atividades%20-%20Ebac/Atividade%2042%20-%20Ebac%20-%20Projeto/Imagem/Criando%20grupo.png?raw=true)\n",
        "---\n",
        "#### Adicionando bot ao grupo\n",
        "![Adicionando bot ao grupo](https://github.com/mariaefoliveira/Analise-de-Dados/blob/main/Atividades%20-%20Ebac/Atividade%2042%20-%20Ebac%20-%20Projeto/Imagem/Adicionando%20bot%20ao%20grupo.png?raw=true)"
      ],
      "metadata": {
        "id": "1NnIMaR2uOWI"
      }
    },
    {
      "cell_type": "markdown",
      "source": [
        "1.4. Torne o *bot* administrador do grupo."
      ],
      "metadata": {
        "id": "LzXWWUWzeNxt"
      }
    },
    {
      "cell_type": "markdown",
      "source": [
        "#### Colocando bot como admnistrador\n",
        "![Tornando bot admnistrador](https://github.com/mariaefoliveira/Analise-de-Dados/blob/main/Atividades%20-%20Ebac/Atividade%2042%20-%20Ebac%20-%20Projeto/Imagem/adicionando%20bot%20ao%20admnistrador.png?raw=true)"
      ],
      "metadata": {
        "id": "xTEGwPXOuPmT"
      }
    },
    {
      "cell_type": "markdown",
      "source": [
        "1.5. Desabilite a opção de adicionar o *bot* a novos grupos."
      ],
      "metadata": {
        "id": "_D2WT_iueaRr"
      }
    },
    {
      "cell_type": "markdown",
      "source": [
        "#### Desabilitando a opção de adicionar o bot a novos grupos\n",
        "![Desabilitando a opção de adicionar o bot a novos grupos](https://github.com/mariaefoliveira/Analise-de-Dados/blob/main/Atividades%20-%20Ebac/Atividade%2042%20-%20Ebac%20-%20Projeto/Imagem/desabilitando%20a%20adi%C3%A7%C3%A3o%20em%20novos%20grupos.png?raw=true)"
      ],
      "metadata": {
        "id": "R9W79bQauP07"
      }
    },
    {
      "cell_type": "markdown",
      "source": [
        "1.6. Envie diversos tipos de mensagens no grupo (text, imagem, arquivos, video, áudio, etc.) e as consuma utilizand a API de *bots* do **Telegram**."
      ],
      "metadata": {
        "id": "t4PyML7VUPBd"
      }
    },
    {
      "cell_type": "markdown",
      "source": [
        "#### Enviando diversos tipos de mensagens\n",
        "![Enviar diversos tipos de mensagens](https://github.com/mariaefoliveira/Analise-de-Dados/blob/main/Atividades%20-%20Ebac/Atividade%2042%20-%20Ebac%20-%20Projeto/Imagem/Diversos%20tipos%20de%20mensagens%20enviadas.png?raw=true)"
      ],
      "metadata": {
        "id": "JuEGp-kFuRVD"
      }
    },
    {
      "cell_type": "markdown",
      "source": [
        "> **Nota:** A documentação completa da API pode ser encontrada neste [link](https://core.telegram.org/bots/api)"
      ],
      "metadata": {
        "id": "c4MXmvWMUetr"
      }
    },
    {
      "cell_type": "markdown",
      "source": [
        "# API"
      ],
      "metadata": {
        "id": "tawe8FJ-gerb"
      }
    },
    {
      "cell_type": "code",
      "source": [
        "# Solução do item 1.6.\n",
        "\n",
        "from getpass import getpass\n",
        "\n",
        "token = getpass()"
      ],
      "metadata": {
        "id": "y3idc49neaRt",
        "colab": {
          "base_uri": "https://localhost:8080/"
        },
        "outputId": "d6430eee-252b-4f66-fcf2-6b3b978ed098"
      },
      "execution_count": null,
      "outputs": [
        {
          "name": "stdout",
          "output_type": "stream",
          "text": [
            "··········\n"
          ]
        }
      ]
    },
    {
      "cell_type": "code",
      "source": [
        "import json\n",
        "import requests"
      ],
      "metadata": {
        "id": "GwfcY-JC3Iv_"
      },
      "execution_count": null,
      "outputs": []
    },
    {
      "cell_type": "code",
      "source": [
        "base_url = f'https://api.telegram.org/bot{token}'"
      ],
      "metadata": {
        "id": "i5feMHwrtG53"
      },
      "execution_count": null,
      "outputs": []
    },
    {
      "cell_type": "code",
      "source": [
        "response = requests.get(url=f'{base_url}/getMe')\n",
        "print(f'{base_url}/getMe')\n",
        "\n",
        "print(json.dumps(json.loads(response.text), indent=2))"
      ],
      "metadata": {
        "colab": {
          "base_uri": "https://localhost:8080/"
        },
        "id": "62FfNMTRtSw-",
        "outputId": "0aae4656-aa12-4a09-ecee-b78d44111483"
      },
      "execution_count": null,
      "outputs": [
        {
          "output_type": "stream",
          "name": "stdout",
          "text": [
            "https://api.telegram.org/bot7798579918:AAGVR_XteTh5gx7qabc8umw6emHx9bxubU4/getMe\n",
            "{\n",
            "  \"ok\": true,\n",
            "  \"result\": {\n",
            "    \"id\": 7798579918,\n",
            "    \"is_bot\": true,\n",
            "    \"first_name\": \"m42_ebac_bot\",\n",
            "    \"username\": \"noragan_bot\",\n",
            "    \"can_join_groups\": false,\n",
            "    \"can_read_all_group_messages\": false,\n",
            "    \"supports_inline_queries\": false,\n",
            "    \"can_connect_to_business\": false,\n",
            "    \"has_main_web_app\": false\n",
            "  }\n",
            "}\n"
          ]
        }
      ]
    },
    {
      "cell_type": "code",
      "source": [
        "response = requests.get(url=f'{base_url}/getUpdates')\n",
        "\n",
        "print(json.dumps(json.loads(response.text), indent=2));"
      ],
      "metadata": {
        "colab": {
          "base_uri": "https://localhost:8080/"
        },
        "id": "ubLdEh7DwVYC",
        "outputId": "d2fd933d-dcac-422a-f82d-a7428f7a987b"
      },
      "execution_count": null,
      "outputs": [
        {
          "output_type": "stream",
          "name": "stdout",
          "text": [
            "{\n",
            "  \"ok\": true,\n",
            "  \"result\": [\n",
            "    {\n",
            "      \"update_id\": 222426504,\n",
            "      \"message\": {\n",
            "        \"message_id\": 137,\n",
            "        \"from\": {\n",
            "          \"id\": 5327320552,\n",
            "          \"is_bot\": false,\n",
            "          \"first_name\": \"Duda\",\n",
            "          \"language_code\": \"pt-br\"\n",
            "        },\n",
            "        \"chat\": {\n",
            "          \"id\": -1002210934037,\n",
            "          \"title\": \"Grupo m42_ebac_bot\",\n",
            "          \"type\": \"supergroup\"\n",
            "        },\n",
            "        \"date\": 1731522649,\n",
            "        \"text\": \"texto exemplo\"\n",
            "      }\n",
            "    }\n",
            "  ]\n",
            "}\n"
          ]
        }
      ]
    },
    {
      "cell_type": "markdown",
      "source": [
        "# LENDO ARQUIVO JSON"
      ],
      "metadata": {
        "id": "JSYRBtYfgYRL"
      }
    },
    {
      "cell_type": "code",
      "source": [
        "with open('telegram.json', mode='r', encoding='utf8') as fp:\n",
        "  data = json.load(fp)\n",
        "  data = data[\"message\"]\n",
        "  print(json.dumps(data, indent=2))"
      ],
      "metadata": {
        "id": "p5JS-r3I2cg_",
        "colab": {
          "base_uri": "https://localhost:8080/"
        },
        "outputId": "03efb2a9-7529-4422-c2d1-511217f42b63"
      },
      "execution_count": null,
      "outputs": [
        {
          "output_type": "stream",
          "name": "stdout",
          "text": [
            "{\n",
            "  \"message_id\": 137,\n",
            "  \"from\": {\n",
            "    \"id\": 5327320552,\n",
            "    \"is_bot\": false,\n",
            "    \"first_name\": \"Duda\",\n",
            "    \"language_code\": \"pt-br\"\n",
            "  },\n",
            "  \"chat\": {\n",
            "    \"id\": -1002210934037,\n",
            "    \"title\": \"Grupo m42_ebac_bot\",\n",
            "    \"type\": \"supergroup\"\n",
            "  },\n",
            "  \"date\": 1731522649,\n",
            "  \"text\": \"texto exemplo\"\n",
            "}\n"
          ]
        }
      ]
    },
    {
      "cell_type": "code",
      "source": [
        "from datetime import datetime\n",
        "\n",
        "# Obtenha a data e o timestamp atuais\n",
        "date = datetime.now().strftime('%Y-%m-%d')\n",
        "timestamp = datetime.now().strftime('%Y-%m-%d %H:%M:%S')\n",
        "\n",
        "parsed_data = dict()\n",
        "\n",
        "# Lista de chaves que serão tratadas diretamente\n",
        "common_keys = ['message_id', 'date', 'text', 'caption', 'photo', 'voice']\n",
        "\n",
        "for key, value in data.items():\n",
        "    # Processar 'from' e 'chat' de maneira especial\n",
        "    if key == 'from':\n",
        "        for k, v in data[key].items():\n",
        "            if k in ['id', 'is_bot', 'first_name']:\n",
        "                parsed_data[f\"user_{k}\"] = [v]\n",
        "\n",
        "    elif key == 'chat':\n",
        "        for k, v in data[key].items():\n",
        "            if k in ['id', 'type']:\n",
        "                parsed_data[f\"chat_{k}\"] = [v]\n",
        "\n",
        "    # Se a chave estiver na lista common_keys, basta adicioná-la\n",
        "    elif key in common_keys:\n",
        "        # Tratamento para a chave 'photo'\n",
        "        if key == 'photo':\n",
        "            parsed_data['photo'] = [value]  #Processa 1 foto\n",
        "\n",
        "       # Tratamento para a chave 'voice'\n",
        "        elif key == 'voice':\n",
        "            parsed_data['voice_file_id'] = [value.get('file_id', None)]\n",
        "            parsed_data['voice_duration_second'] = [value.get('duration', None)]\n",
        "            parsed_data['voice_mime_type'] = [value.get('mime_type', None)]\n",
        "            parsed_data['voice_file_size'] = [value.get('file_size', None)]\n",
        "            parsed_data['voice_file_unique_id'] = [value.get('file_unique_id', None)]\n",
        "\n",
        "        # Se for 'message_id', 'date', 'text' ou 'caption', simplesmente adiciona ao parsed_data\n",
        "        else:\n",
        "            parsed_data[key] = [value]\n",
        "\n",
        "# Lista de campos obrigatórios que devem estar presentes\n",
        "mandatory_keys = ['text', 'caption', 'photo', 'voice_file_id', 'voice_duration_second']\n",
        "\n",
        "# Garantir que todos os campos obrigatórios existam, preenchendo com None se não existirem\n",
        "for key in mandatory_keys:\n",
        "    if key not in parsed_data:\n",
        "        parsed_data[key] = [None]\n",
        "\n",
        "# Adiciona os campos de contexto (data e timestamp)\n",
        "parsed_data['context_date'] = [date]\n",
        "parsed_data['context_timestamp'] = [timestamp]"
      ],
      "metadata": {
        "id": "duZack3waZPt"
      },
      "execution_count": null,
      "outputs": []
    },
    {
      "cell_type": "code",
      "source": [
        "for k, v in parsed_data.items():\n",
        "  print(f\"{k}: {v}\")"
      ],
      "metadata": {
        "id": "DLA-40tc3OLW",
        "colab": {
          "base_uri": "https://localhost:8080/"
        },
        "outputId": "d09d5eff-ff00-4a89-9804-96c40e3059f8"
      },
      "execution_count": null,
      "outputs": [
        {
          "output_type": "stream",
          "name": "stdout",
          "text": [
            "message_id: [137]\n",
            "user_id: [5327320552]\n",
            "user_is_bot: [False]\n",
            "user_first_name: ['Duda']\n",
            "chat_id: [-1002210934037]\n",
            "chat_type: ['supergroup']\n",
            "date: [1731522649]\n",
            "text: ['texto exemplo']\n",
            "caption: [None]\n",
            "photo: [None]\n",
            "voice_file_id: [None]\n",
            "voice_duration_second: [None]\n",
            "context_date: ['2024-11-13']\n",
            "context_timestamp: ['2024-11-13 18:32:24']\n"
          ]
        }
      ]
    },
    {
      "cell_type": "code",
      "source": [
        "import pyarrow as pa\n",
        "\n",
        "table = pa.Table.from_pydict(mapping=parsed_data)"
      ],
      "metadata": {
        "id": "sNpMThZf3PoB"
      },
      "execution_count": null,
      "outputs": []
    },
    {
      "cell_type": "code",
      "source": [
        "table"
      ],
      "metadata": {
        "id": "zWz6iWZh3R5V",
        "colab": {
          "base_uri": "https://localhost:8080/"
        },
        "outputId": "9aeeb7b9-62cb-4bd2-bc48-d05c95119119"
      },
      "execution_count": null,
      "outputs": [
        {
          "output_type": "execute_result",
          "data": {
            "text/plain": [
              "pyarrow.Table\n",
              "message_id: int64\n",
              "user_id: int64\n",
              "user_is_bot: bool\n",
              "user_first_name: string\n",
              "chat_id: int64\n",
              "chat_type: string\n",
              "date: int64\n",
              "text: string\n",
              "caption: null\n",
              "photo: null\n",
              "voice_file_id: null\n",
              "voice_duration_second: null\n",
              "context_date: string\n",
              "context_timestamp: string\n",
              "----\n",
              "message_id: [[137]]\n",
              "user_id: [[5327320552]]\n",
              "user_is_bot: [[false]]\n",
              "user_first_name: [[\"Duda\"]]\n",
              "chat_id: [[-1002210934037]]\n",
              "chat_type: [[\"supergroup\"]]\n",
              "date: [[1731522649]]\n",
              "text: [[\"texto exemplo\"]]\n",
              "caption: [1 nulls]\n",
              "photo: [1 nulls]\n",
              "..."
            ]
          },
          "metadata": {},
          "execution_count": 24
        }
      ]
    }
  ]
}