{
  "nbformat": 4,
  "nbformat_minor": 0,
  "metadata": {
    "colab": {
      "provenance": []
    },
    "kernelspec": {
      "name": "python3",
      "display_name": "Python 3"
    }
  },
  "cells": [
    {
      "cell_type": "markdown",
      "metadata": {
        "id": "KJqp9AANOCtf"
      },
      "source": [
        "<img src=\"https://raw.githubusercontent.com/andre-marcos-perez/ebac-course-utils/main/media/logo/newebac_logo_black_half.png\" alt=\"ebac-logo\">\n",
        "\n",
        "---\n",
        "\n",
        "# **Módulo** | SQL: Base de dados & Linguagem SQL\n",
        "Caderno de **Exercícios**<br>\n",
        "Professor [André Perez](https://www.linkedin.com/in/andremarcosperez/)\n",
        "\n",
        "---"
      ]
    },
    {
      "cell_type": "markdown",
      "metadata": {
        "id": "d9jDtUbDOE1-"
      },
      "source": [
        "# **Tópicos**\n",
        "\n",
        "<ol type=\"1\">\n",
        "  <li>Introdução ao Google Colab;</li>\n",
        "  <li>Bases de dados relacionais;</li>\n",
        "  <li>Introdução ao SQL;</li>\n",
        "  <li>Introdução ao AWS Console;</li>\n",
        "  <li>Armazenamento de dados com AWS S3;</li>\n",
        "  <li>Computação em SQL com AWS Athena.</li>\n",
        "</ol>"
      ]
    },
    {
      "cell_type": "markdown",
      "metadata": {
        "id": "SmoHgt-lwkpD"
      },
      "source": [
        "---"
      ]
    },
    {
      "cell_type": "markdown",
      "metadata": {
        "id": "DIlQOznoTPQF"
      },
      "source": [
        "# **Instruções**\n",
        "\n",
        "Neste exercícios, vamos configurar e testar os serviços AWS S3 e AWS Athena da plataforma de computação em nuvem da AWS para utilizarmos durante todo o curso:\n",
        "\n",
        "Na etapa de **configuração**, você deve seguir o passo a passo de configuração do ambiente, não há entregáveis.\n",
        "\n",
        "Na etapa de **atividades**, você deve:\n",
        "\n",
        " 1. Eexecutar a consulta SQL fornecida;\n",
        " 2. Exportar os resultados em um arquivo csv para sua máquina;\n",
        " 3. Renomear o arquivo como **query_\\<numero-da-query>.csv**;\n",
        " 4. Enviar para a avaliação do tutor na plataforma da EBAC.\n",
        "\n",
        "> **Atenção**: Substitua o **\\<numero-da-query>** numero da consulta, exemplo: **query_1.csv**."
      ]
    },
    {
      "cell_type": "markdown",
      "metadata": {
        "id": "vvlBORqbTPQp"
      },
      "source": [
        "---"
      ]
    },
    {
      "cell_type": "markdown",
      "metadata": {
        "id": "GABI6OW8OfQ2"
      },
      "source": [
        "# **Configuração**"
      ]
    },
    {
      "cell_type": "markdown",
      "metadata": {
        "id": "muD1vxozykSC"
      },
      "source": [
        "## 1\\. Criando a sua conta da AWS"
      ]
    },
    {
      "cell_type": "markdown",
      "metadata": {
        "id": "ahrFfCuBxJKs"
      },
      "source": [
        " Acesse a plataforma da AWS neste [link](https://portal.aws.amazon.com/), clique no botão **Criar uma nova conta da AWS** e siga as etapas para a criação da conta. Com a conta pronta, acesse o console da AWS usando as suas novas credenciais neste [link](https://portal.aws.amazon.com/).\n",
        "\n",
        "\n",
        "> **Atenção**: Lembre-se que você precisa de um cartão de crédito para criar a sua conta."
      ]
    },
    {
      "cell_type": "markdown",
      "metadata": {
        "id": "jdIScjXVWoHU"
      },
      "source": [
        "## 2\\. Configurando o AWS S3"
      ]
    },
    {
      "cell_type": "markdown",
      "metadata": {
        "id": "OCY24c61WoHW"
      },
      "source": [
        "1. Acesse AWS S3;\n",
        "2. Crie dois buckets:\n",
        " *   **ebac-\\<seu-nome>-modulo_1**: para os dados;\n",
        " *   **ebac-\\<seu-nome>-query-results**: para o resultado das consultas do AWS Athena;\n",
        "3. Faço o upload do arquivo **credito-aula.csv** no bucket de dados.\n",
        "\n",
        "> **Atenção**: Substitua o **\\<seu-nome>** pelo seu primeiro nome, exemplo: **ebac-andreperez-modulo_1**.\n",
        "\n",
        "> **Atenção**: Caso o bucket já exista, sinta-se a vontade para escolher o nome que desejar.\n",
        "\n",
        " > **Atenção**: O arquivo **credito-aula.csv** está na plataforma da EBAC."
      ]
    },
    {
      "cell_type": "markdown",
      "metadata": {
        "id": "lnCGnQ8PWoHX"
      },
      "source": [
        "## 2\\. Configurando o AWS Athena"
      ]
    },
    {
      "cell_type": "markdown",
      "metadata": {
        "id": "GXt0Ud01WoHX"
      },
      "source": [
        "1. Acesse AWS Athena;\n",
        "2. Configure o local de armazenamento das consultas:\n",
        "\n",
        " * Clique no botão **settings**;\n",
        " * Preencha o campo **Query result location** com o nome do bucket (**ebac-\\<seu-nome>-query-results**) criado na etapa anterior;\n",
        " * Clique em salvar."
      ]
    },
    {
      "cell_type": "markdown",
      "metadata": {
        "id": "k4HJwfbQcEQw"
      },
      "source": [
        "# Atividades"
      ]
    },
    {
      "cell_type": "markdown",
      "metadata": {
        "id": "Lyqe05QXcERP"
      },
      "source": [
        "## **1 Criação da tabela de clientes**"
      ]
    },
    {
      "cell_type": "markdown",
      "metadata": {
        "id": "Rq7i2Tb4cERP"
      },
      "source": [
        "No console do AWS Athena, execute a seguinte query:\n",
        "\n",
        "```sql\n",
        "CREATE EXTERNAL TABLE clientes(\n",
        "  id BIGINT,\n",
        "  idade BIGINT,\n",
        "  sexo STRING,\n",
        "  dependentes BIGINT,\n",
        "  escolaridade STRING,\n",
        "  tipo_cartao STRING,\n",
        "  limite_credito DOUBLE,\n",
        "  valor_transacoes_12m DOUBLE,\n",
        "  qtd_transacoes_12m BIGINT)\n",
        "ROW FORMAT SERDE 'org.apache.hadoop.hive.serde2.OpenCSVSerde'\n",
        "WITH SERDEPROPERTIES ('separatorChar' = ',', 'quoteChar' = '\"', 'escapeChar' = '\\\\')\n",
        "STORED AS TEXTFILE\n",
        "LOCATION 's3://ebac-<seu-nome>-modulo_1/'\n",
        "```\n",
        "\n",
        "No painel de resultados, você deve encontrar o seguinte resultado.\n",
        "\n",
        "```\n",
        "Query successful.\n",
        "```\n",
        "\n",
        "\n",
        "> **Atenção**: No campo LOCATION, substitua o **\\<seu-nome>** pelo seu primeiro nome, exemplo: **ebac-andreperez-modulo_1**.\n",
        "\n",
        "> **Atenção**: Nesta atividade, você não precisa exportar os resultados."
      ]
    },
    {
      "cell_type": "markdown",
      "metadata": {
        "id": "0cbohKQegVk7"
      },
      "source": [
        "## **2. Explorando os dados da tabela de clientes**"
      ]
    },
    {
      "cell_type": "markdown",
      "metadata": {
        "id": "0Airo3E0h5Ik"
      },
      "source": [
        "### **2.1. Query 1**"
      ]
    },
    {
      "cell_type": "markdown",
      "metadata": {
        "id": "2m92meC8gVk9"
      },
      "source": [
        "No console do AWS Athena, execute a seguinte query:\n",
        "\n",
        "```sql\n",
        "SELECT * FROM clientes;\n",
        "```\n",
        "\n",
        "No painel de resultados você deve encontrar o seguinte resultado.\n",
        "\n",
        "| id        | idade | sexo | dependentes | escolaridade | tipo_cartao | limite_credito | valor_transacoes_12m | qtd_transacoes_12m |\n",
        "|-----------|-------|------|---|--------------|-|----------------|----------|----|\n",
        "| 768805383 | 45    | M    | 3 | ensino medio | blue | 12.691,51      | 1.144,90 | 42 |\n",
        "| 818770008 | 49    | F    | 5 | mestrado     | blue | 8.256,96      | 1.291,45 | 33 |\n",
        "| 713982108 | 51    | M    | 3 | mestrado     | blue | 3.418,56      | 1.887,72 | 20 |\n",
        "\n",
        "<br>\n",
        "\n",
        "> **Atenção**: Extraia os resultados para o arquivo CSV através do botão de download e renomei-o com o número da query. Voce deve envia-lo para os tutores de EBAC."
      ]
    },
    {
      "cell_type": "code",
      "source": [
        "#Query baixada da consulta realizada no Athena (Salvo no github)\n",
        "\n",
        "!wget https://raw.githubusercontent.com/mariaefoliveira/Analise-de-Dados/main/Atividades%20-%20Ebac/Atividade%2029%20-%20Ebac%20-%20AWS/Query/query_1.csv\n"
      ],
      "metadata": {
        "colab": {
          "base_uri": "https://localhost:8080/"
        },
        "id": "_XG5mah16mwx",
        "outputId": "4fa8ecc5-10fa-44c1-8740-251c4e6819fa"
      },
      "execution_count": null,
      "outputs": [
        {
          "output_type": "stream",
          "name": "stdout",
          "text": [
            "--2024-06-07 18:22:34--  https://raw.githubusercontent.com/mariaefoliveira/Analise-de-Dados/main/Atividades%20-%20Ebac/Atividade%2029%20-%20Ebac%20-%20AWS/Query/query_1.csv\n",
            "Resolving raw.githubusercontent.com (raw.githubusercontent.com)... 185.199.108.133, 185.199.109.133, 185.199.110.133, ...\n",
            "Connecting to raw.githubusercontent.com (raw.githubusercontent.com)|185.199.108.133|:443... connected.\n",
            "HTTP request sent, awaiting response... 200 OK\n",
            "Length: 338 [text/plain]\n",
            "Saving to: ‘query_1.csv’\n",
            "\n",
            "\rquery_1.csv           0%[                    ]       0  --.-KB/s               \rquery_1.csv         100%[===================>]     338  --.-KB/s    in 0s      \n",
            "\n",
            "2024-06-07 18:22:34 (5.29 MB/s) - ‘query_1.csv’ saved [338/338]\n",
            "\n"
          ]
        }
      ]
    },
    {
      "cell_type": "markdown",
      "metadata": {
        "id": "N-lRqaLXiL9i"
      },
      "source": [
        "### **2.2. Query 2**"
      ]
    },
    {
      "cell_type": "markdown",
      "metadata": {
        "id": "j_WeV8RliL9j"
      },
      "source": [
        "No console do AWS Athena, execute a seguinte query:\n",
        "\n",
        "```sql\n",
        "SELECT id, idade, limite_credito FROM clientes WHERE sexo = 'M' ORDER BY idade DESC;\n",
        "```\n",
        "\n",
        "No painel de resultados você deve encontrar o seguinte resultado.\n",
        "\n",
        "| id        | idade | limite_credito |\n",
        "|-----------|-------|----------------|\n",
        "| 713982108 | 51    |   3418.56      |\n",
        "| 768805383 | 45    |  12691.51      |\n",
        "\n",
        "<br>\n",
        "\n",
        "> **Atenção**: Extraia os resultados para o arquivo CSV através do botão de download e renomei-o com o número da query. Voce deve envia-lo para os tutores de EBAC."
      ]
    },
    {
      "cell_type": "code",
      "source": [
        "#Query baixada da consulta realizada no Athena (Salvo no github)\n",
        "\n",
        "!wget https://raw.githubusercontent.com/mariaefoliveira/Analise-de-Dados/main/Atividades%20-%20Ebac/Atividade%2029%20-%20Ebac%20-%20AWS/Query/query_2.csv"
      ],
      "metadata": {
        "colab": {
          "base_uri": "https://localhost:8080/"
        },
        "id": "usyBxuL08J9V",
        "outputId": "eb393f7e-9768-40b4-ef4d-fe8a5c6769ca"
      },
      "execution_count": 2,
      "outputs": [
        {
          "output_type": "stream",
          "name": "stdout",
          "text": [
            "--2024-06-07 18:23:20--  https://raw.githubusercontent.com/mariaefoliveira/Analise-de-Dados/main/Atividades%20-%20Ebac/Atividade%2029%20-%20Ebac%20-%20AWS/Query/query_2.csv\n",
            "Resolving raw.githubusercontent.com (raw.githubusercontent.com)... 185.199.111.133, 185.199.110.133, 185.199.108.133, ...\n",
            "Connecting to raw.githubusercontent.com (raw.githubusercontent.com)|185.199.111.133|:443... connected.\n",
            "HTTP request sent, awaiting response... 200 OK\n",
            "Length: 85 [text/plain]\n",
            "Saving to: ‘query_2.csv’\n",
            "\n",
            "\rquery_2.csv           0%[                    ]       0  --.-KB/s               \rquery_2.csv         100%[===================>]      85  --.-KB/s    in 0s      \n",
            "\n",
            "2024-06-07 18:23:20 (1.45 MB/s) - ‘query_2.csv’ saved [85/85]\n",
            "\n"
          ]
        }
      ]
    },
    {
      "cell_type": "markdown",
      "metadata": {
        "id": "dnQoRZCGiMQH"
      },
      "source": [
        "### **2.3. Query 3**"
      ]
    },
    {
      "cell_type": "markdown",
      "metadata": {
        "id": "SyLk8zbaiMQI"
      },
      "source": [
        "No console do AWS Athena, execute a seguinte query:\n",
        "\n",
        "```sql\n",
        "SELECT sexo, AVG(idade) AS \"media_idade_por_sexo\" FROM clientes GROUP BY sexo;\n",
        "```\n",
        "\n",
        "No painel de resultados você deve encontrar o seguinte resultado.\n",
        "\n",
        "| sexo | media_idade_por_sexo |\n",
        "|------|----------------------|\n",
        "| F    | 49                   |\n",
        "| M    | 48                   |\n",
        "\n",
        "<br>\n",
        "\n",
        "> **Atenção**: Extraia os resultados para o arquivo CSV através do botão de download e renomei-o com o número da query. Voce deve envia-lo para os tutores de EBAC."
      ]
    },
    {
      "cell_type": "code",
      "source": [
        "#Query baixada da consulta realizada no Athena (Salvo no github)\n",
        "\n",
        "!wget https://raw.githubusercontent.com/mariaefoliveira/Analise-de-Dados/main/Atividades%20-%20Ebac/Atividade%2029%20-%20Ebac%20-%20AWS/Query/query_3.csv"
      ],
      "metadata": {
        "colab": {
          "base_uri": "https://localhost:8080/"
        },
        "id": "86SW0mBZ8PBN",
        "outputId": "ea314971-080a-4720-bfa4-dd69cd2bc070"
      },
      "execution_count": 3,
      "outputs": [
        {
          "output_type": "stream",
          "name": "stdout",
          "text": [
            "--2024-06-07 18:23:44--  https://raw.githubusercontent.com/mariaefoliveira/Analise-de-Dados/main/Atividades%20-%20Ebac/Atividade%2029%20-%20Ebac%20-%20AWS/Query/query_3.csv\n",
            "Resolving raw.githubusercontent.com (raw.githubusercontent.com)... 185.199.108.133, 185.199.109.133, 185.199.110.133, ...\n",
            "Connecting to raw.githubusercontent.com (raw.githubusercontent.com)|185.199.108.133|:443... connected.\n",
            "HTTP request sent, awaiting response... 200 OK\n",
            "Length: 52 [text/plain]\n",
            "Saving to: ‘query_3.csv’\n",
            "\n",
            "\rquery_3.csv           0%[                    ]       0  --.-KB/s               \rquery_3.csv         100%[===================>]      52  --.-KB/s    in 0s      \n",
            "\n",
            "2024-06-07 18:23:45 (2.21 MB/s) - ‘query_3.csv’ saved [52/52]\n",
            "\n"
          ]
        }
      ]
    }
  ]
}